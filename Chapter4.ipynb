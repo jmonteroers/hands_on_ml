{
 "cells": [
  {
   "cell_type": "markdown",
   "id": "1faa5669-bbae-4cf8-bac2-61a7275d6e68",
   "metadata": {},
   "source": [
    "# Chapter 4, Training Models"
   ]
  },
  {
   "cell_type": "markdown",
   "id": "82d6d950-28a8-47c2-9c90-96ee491836cd",
   "metadata": {},
   "source": [
    "# Linear Regression"
   ]
  },
  {
   "cell_type": "markdown",
   "id": "86c210cf-7518-4ff4-b3b1-040f0f15ee73",
   "metadata": {},
   "source": [
    "## The Normal Equation"
   ]
  },
  {
   "cell_type": "code",
   "execution_count": 1,
   "id": "ef4f2d32-4ea7-4180-aa9c-0680f11461c2",
   "metadata": {},
   "outputs": [],
   "source": [
    "import numpy as np"
   ]
  },
  {
   "cell_type": "code",
   "execution_count": 2,
   "id": "5307635c-08c0-4052-872f-6e33f9702fb0",
   "metadata": {},
   "outputs": [
    {
     "data": {
      "text/plain": [
       "array([1.44941833])"
      ]
     },
     "execution_count": 2,
     "metadata": {},
     "output_type": "execute_result"
    }
   ],
   "source": [
    "X = 2 * np.random.rand(100, 1)  # sampling from uniform([0, 2])\n",
    "X[9]"
   ]
  },
  {
   "cell_type": "code",
   "execution_count": 3,
   "id": "e9f29cec-5f38-4502-88dc-429881e54aae",
   "metadata": {},
   "outputs": [],
   "source": [
    "y = 4 + 3*X + np.random.randn(100, 1)"
   ]
  },
  {
   "cell_type": "markdown",
   "id": "b36f4369-17eb-4f92-b560-adf04d9f97aa",
   "metadata": {},
   "source": [
    "Plotting X, and y"
   ]
  },
  {
   "cell_type": "code",
   "execution_count": 4,
   "id": "34be078a-018c-4737-b2eb-c5ed058eb488",
   "metadata": {},
   "outputs": [
    {
     "data": {
      "text/plain": [
       "[<matplotlib.lines.Line2D at 0x11123a7f0>]"
      ]
     },
     "execution_count": 4,
     "metadata": {},
     "output_type": "execute_result"
    },
    {
     "data": {
      "image/png": "[encoded data removed]",
      "text/plain": [
       "<Figure size 432x288 with 1 Axes>"
      ]
     },
     "metadata": {
      "needs_background": "light"
     },
     "output_type": "display_data"
    }
   ],
   "source": [
    "import matplotlib.pyplot as plt\n",
    "\n",
    "plt.plot(X, y, 'o')"
   ]
  },
  {
   "cell_type": "markdown",
   "id": "da0a6054-3b7f-4d86-aeda-2054dc8ebf72",
   "metadata": {},
   "source": [
    "Now, let's compute the estimated parameters using the normal equation,"
   ]
  },
  {
   "cell_type": "markdown",
   "id": "7cf3a404-7cb4-4235-adfc-fd0426aa267d",
   "metadata": {},
   "source": [
    "$\\hat{\\theta} = (X^{T}X)^{-1}X^Ty$"
   ]
  },
  {
   "cell_type": "code",
   "execution_count": 5,
   "id": "a065d477-a38a-4b64-8089-61b3afd5680d",
   "metadata": {},
   "outputs": [],
   "source": [
    "X_b = np.c_[np.ones([len(X), 1]), X]"
   ]
  },
  {
   "cell_type": "code",
   "execution_count": 6,
   "id": "d0d961ab-d370-44b6-adb4-c71c8eca5190",
   "metadata": {},
   "outputs": [],
   "source": [
    "theta_best = np.linalg.inv(X_b.T.dot(X_b)).dot(X_b.T).dot(y)"
   ]
  },
  {
   "cell_type": "code",
   "execution_count": 7,
   "id": "a0c09722-6579-4db2-83ef-21439ad5a5a5",
   "metadata": {},
   "outputs": [
    {
     "data": {
      "text/plain": [
       "array([[4.23910034],\n",
       "       [2.91815533]])"
      ]
     },
     "execution_count": 7,
     "metadata": {},
     "output_type": "execute_result"
    }
   ],
   "source": [
    "theta_best"
   ]
  },
  {
   "cell_type": "markdown",
   "id": "53727eba-7471-4d87-b08b-e5aa3f7156b7",
   "metadata": {},
   "source": [
    "Remember that the respective params were 4, 3 - i.e. the noise didn't allow us to recover the actual parameters."
   ]
  },
  {
   "cell_type": "markdown",
   "id": "c327dc20-ce8a-4b97-90f0-eebd963a1624",
   "metadata": {},
   "source": [
    "Now we can create a function to predict new_values,"
   ]
  },
  {
   "cell_type": "code",
   "execution_count": 8,
   "id": "4fec5531-cc21-4e63-9ec7-aea330a3c20c",
   "metadata": {},
   "outputs": [],
   "source": [
    "from np_typing import Array\n",
    "\n",
    "def norm_predict(X_new: Array[\"N,1\"], theta: Array[\"2,1\"]) -> Array[\"N,1\"]:\n",
    "    X_b_new: Array[\"N,2\"] = np.c_[np.ones([len(X_new), 1]), X_new]\n",
    "    y_pred = X_b_new.dot(theta)\n",
    "    return y_pred"
   ]
  },
  {
   "cell_type": "code",
   "execution_count": 9,
   "id": "7458fb3d-d7b9-477f-b7c2-7f708c6d1db7",
   "metadata": {},
   "outputs": [],
   "source": [
    "X_new = np.array([[0.5], [1.], [1.5]])"
   ]
  },
  {
   "cell_type": "code",
   "execution_count": 10,
   "id": "c01c802b-5912-43c9-910b-8986a5016ed8",
   "metadata": {},
   "outputs": [
    {
     "data": {
      "text/plain": [
       "(3, 1)"
      ]
     },
     "execution_count": 10,
     "metadata": {},
     "output_type": "execute_result"
    }
   ],
   "source": [
    "X_new.shape"
   ]
  },
  {
   "cell_type": "code",
   "execution_count": 11,
   "id": "c29cf9be-8e7e-4d79-9157-fae02c08a0b0",
   "metadata": {},
   "outputs": [],
   "source": [
    "y_pred = norm_predict(X_new, theta_best)"
   ]
  },
  {
   "cell_type": "markdown",
   "id": "2faf25eb-a59c-4d91-80d9-43b98794a159",
   "metadata": {},
   "source": [
    "Let's plot this model's predictions"
   ]
  },
  {
   "cell_type": "code",
   "execution_count": 12,
   "id": "8c501327-e070-4dc8-bd41-cc549ee7dc57",
   "metadata": {},
   "outputs": [
    {
     "data": {
      "text/plain": [
       "[<matplotlib.lines.Line2D at 0x111347370>]"
      ]
     },
     "execution_count": 12,
     "metadata": {},
     "output_type": "execute_result"
    },
    {
     "data": {
      "image/png": "[encoded data removed]",
      "text/plain": [
       "<Figure size 432x288 with 1 Axes>"
      ]
     },
     "metadata": {
      "needs_background": "light"
     },
     "output_type": "display_data"
    }
   ],
   "source": [
    "plt.plot(X_new, y_pred, 'r-')\n",
    "\n",
    "plt.plot(X, y, '.')"
   ]
  },
  {
   "cell_type": "markdown",
   "id": "05af2829-31b0-4aed-928b-10c723bc80c7",
   "metadata": {},
   "source": [
    "## Batch Gradient Descent"
   ]
  },
  {
   "cell_type": "markdown",
   "id": "b0448a65-aeda-44d2-89a0-e00baa8160e7",
   "metadata": {},
   "source": [
    "Gradient vector of MSE cost function for the Linear Regression model is:"
   ]
  },
  {
   "cell_type": "markdown",
   "id": "206a6e0f-95dc-4670-b828-31e7c9e8068b",
   "metadata": {},
   "source": [
    "$$\\nabla_{\\theta} MSE(\\theta) = \\frac{2}{N}X^T(X\\theta - y)$$"
   ]
  },
  {
   "cell_type": "markdown",
   "id": "f6fa1655-18f7-4e8d-91b1-9301581ec143",
   "metadata": {},
   "source": [
    "Note that it is called \"Batch\" gradient descent since it uses the entire sample to compute the gradients at each step.The gradient descent step equals"
   ]
  },
  {
   "cell_type": "markdown",
   "id": "9e659f78-c8d7-49cf-8127-fcc36351abef",
   "metadata": {},
   "source": [
    "$$\\theta^{next_step} = \\theta - \\eta \\nabla_{\\theta} MSE(\\theta)$$"
   ]
  },
  {
   "cell_type": "code",
   "execution_count": 40,
   "id": "1a61557b-e9b4-4952-90e0-adc540fc4de9",
   "metadata": {},
   "outputs": [],
   "source": [
    "def gradient_descent(X: Array[\"N,m\"], y: Array[\"N,1\"], learning_rate=.1, min_tolerance=0.01, max_its=10000) -> Array[\"m+1,1\"]:\n",
    "    N, m = X.shape\n",
    "    theta = np.zeros([m+1, 1])\n",
    "    X_b = np.c_[np.ones([N, 1]), X]\n",
    "    err = X_b.dot(theta) - y\n",
    "    n_its = 0\n",
    "    while (n_its < max_its) and (np.linalg.norm(err)/len(err) > min_tolerance):\n",
    "        grad = 2/N * X_b.T.dot(err)\n",
    "        theta -= learning_rate*grad\n",
    "        err = X_b.dot(theta) - y\n",
    "        n_its += 1\n",
    "        if n_its % 1000 == 0:\n",
    "            print(f\"Running iteration {n_its}, error norm is {np.linalg.norm(err)/len(err)}\")\n",
    "    return theta"
   ]
  },
  {
   "cell_type": "code",
   "execution_count": 41,
   "id": "a8970b2b-d41c-4f90-8050-e1cc80b37d14",
   "metadata": {},
   "outputs": [
    {
     "name": "stdout",
     "output_type": "stream",
     "text": [
      "Running iteration 1000, error norm is 0.10483680364004863\n",
      "Running iteration 2000, error norm is 0.10483680364004863\n",
      "Running iteration 3000, error norm is 0.10483680364004863\n",
      "Running iteration 4000, error norm is 0.10483680364004863\n",
      "Running iteration 5000, error norm is 0.10483680364004863\n",
      "Running iteration 6000, error norm is 0.10483680364004863\n",
      "Running iteration 7000, error norm is 0.10483680364004863\n",
      "Running iteration 8000, error norm is 0.10483680364004863\n",
      "Running iteration 9000, error norm is 0.10483680364004863\n",
      "Running iteration 10000, error norm is 0.10483680364004863\n"
     ]
    },
    {
     "data": {
      "text/plain": [
       "array([[4.23910034],\n",
       "       [2.91815533]])"
      ]
     },
     "execution_count": 41,
     "metadata": {},
     "output_type": "execute_result"
    }
   ],
   "source": [
    "gradient_descent(X, y)"
   ]
  },
  {
   "cell_type": "code",
   "execution_count": 49,
   "id": "3d8056a5-66ea-4d3f-8706-cf38da8fec48",
   "metadata": {},
   "outputs": [
    {
     "name": "stdout",
     "output_type": "stream",
     "text": [
      "Running iteration 1000, error norm is 0.11322708445406253\n",
      "Running iteration 2000, error norm is 0.10935678490228198\n",
      "Running iteration 3000, error norm is 0.10732621784932171\n",
      "Running iteration 4000, error norm is 0.10620211116173117\n",
      "Running iteration 5000, error norm is 0.10558382134321447\n",
      "Running iteration 6000, error norm is 0.10524498856273434\n",
      "Running iteration 7000, error norm is 0.105059681218012\n",
      "Running iteration 8000, error norm is 0.10495845082328328\n",
      "Running iteration 9000, error norm is 0.10490318446584915\n",
      "Running iteration 10000, error norm is 0.10487302220866988\n",
      "Running iteration 11000, error norm is 0.10485656384936252\n",
      "Running iteration 12000, error norm is 0.10484758407569462\n",
      "Running iteration 13000, error norm is 0.10484268493054202\n",
      "Running iteration 14000, error norm is 0.104840012157009\n",
      "Running iteration 15000, error norm is 0.10483855402484295\n",
      "Running iteration 16000, error norm is 0.10483775854765336\n",
      "Running iteration 17000, error norm is 0.10483732458090939\n",
      "Running iteration 18000, error norm is 0.1048370878341673\n",
      "Running iteration 19000, error norm is 0.1048369586792512\n",
      "Running iteration 20000, error norm is 0.10483688822008047\n"
     ]
    },
    {
     "data": {
      "text/plain": [
       "array([[4.23643791],\n",
       "       [2.9203046 ]])"
      ]
     },
     "execution_count": 49,
     "metadata": {},
     "output_type": "execute_result"
    }
   ],
   "source": [
    "gradient_descent(X, y, learning_rate=.001, max_its=int(2*10**4))"
   ]
  },
  {
   "cell_type": "markdown",
   "id": "ca2bae1a-ef7b-45aa-bd6b-3d277dfd4d52",
   "metadata": {},
   "source": [
    "Notice how we cannot get rid of some error. That's because of the noise in the model!"
   ]
  }
 ],
 "metadata": {
  "kernelspec": {
   "display_name": "Python 3",
   "language": "python",
   "name": "python3"
  },
  "language_info": {
   "codemirror_mode": {
    "name": "ipython",
    "version": 3
   },
   "file_extension": ".py",
   "mimetype": "text/x-python",
   "name": "python",
   "nbconvert_exporter": "python",
   "pygments_lexer": "ipython3",
   "version": "3.8.8"
  }
 },
 "nbformat": 4,
 "nbformat_minor": 5
}
