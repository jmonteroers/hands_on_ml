{
 "cells": [
  {
   "cell_type": "markdown",
   "id": "81c51d99-f2a6-4adf-92c1-6db396bb3581",
   "metadata": {},
   "source": [
    "## From biological to artifical neurons\n",
    "\n",
    "Origin: McCulloch and Pitts' 1943 paper \"A Logical Calculus of Ideas Immanent in Nervous Activity\". This paper presented a simplified computational model of how biological neurons might work together in animal brains to perform complex computations using propotional logic.\n",
    "\n",
    "Long winter followed, till the 1980s. In the early 1980s, new architectures were invented and better training techniques were developed.\n",
    "\n",
    "Currently, there's another wave of interest growing on ANNs. Why not stop this time?\n",
    "- Huge amounts of data, and neural networks outperform other ML models on very large and complex problems\n",
    "\n",
    "- Increase in computing power\n",
    "\n",
    "- Good results lead to investment, and investment leads to good results!"
   ]
  }
 ],
 "metadata": {
  "kernelspec": {
   "display_name": "Python 3",
   "language": "python",
   "name": "python3"
  },
  "language_info": {
   "codemirror_mode": {
    "name": "ipython",
    "version": 3
   },
   "file_extension": ".py",
   "mimetype": "text/x-python",
   "name": "python",
   "nbconvert_exporter": "python",
   "pygments_lexer": "ipython3",
   "version": "3.8.8"
  }
 },
 "nbformat": 4,
 "nbformat_minor": 5
}
