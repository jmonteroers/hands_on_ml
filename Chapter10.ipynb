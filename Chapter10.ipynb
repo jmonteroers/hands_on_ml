{
 "cells": [
  {
   "cell_type": "markdown",
   "id": "81c51d99-f2a6-4adf-92c1-6db396bb3581",
   "metadata": {},
   "source": [
    "## From biological to artifical neurons\n",
    "\n",
    "Origin: McCulloch and Pitts' 1943 paper \"A Logical Calculus of Ideas Immanent in Nervous Activity\". This paper presented a simplified computational model of how biological neurons might work together in animal brains to perform complex computations using propotional logic.\n",
    "\n",
    "Long winter followed, till the 1980s. In the early 1980s, new architectures were invented and better training techniques were developed.\n",
    "\n",
    "Currently, there's another wave of interest growing on ANNs. Why not stop this time?\n",
    "- Huge amounts of data, and neural networks outperform other ML models on very large and complex problems\n",
    "\n",
    "- Increase in computing power\n",
    "\n",
    "- Good results lead to investment, and investment leads to good results!"
   ]
  },
  {
   "cell_type": "markdown",
   "id": "eafe3e68-41ba-4aae-afcc-d8b8ec98afb1",
   "metadata": {},
   "source": [
    "## Check Tensorflow 2"
   ]
  },
  {
   "cell_type": "code",
   "execution_count": 87,
   "id": "9d25b8aa-bd2f-4727-97f7-ee365f874fa0",
   "metadata": {},
   "outputs": [],
   "source": [
    "import tensorflow as tf\n",
    "from tensorflow import keras\n",
    "import numpy as np"
   ]
  },
  {
   "cell_type": "markdown",
   "id": "949ced6e-41a1-49af-a8e6-feba9b2ad8ec",
   "metadata": {},
   "source": [
    "## Build Image classifier using the Sequential API"
   ]
  },
  {
   "cell_type": "code",
   "execution_count": 3,
   "id": "880a1485-1802-4292-9cad-dc4541adcce4",
   "metadata": {},
   "outputs": [],
   "source": [
    "fashion_mnist = keras.datasets.fashion_mnist"
   ]
  },
  {
   "cell_type": "code",
   "execution_count": 4,
   "id": "93cbca42-dbd1-40a2-b0ea-ba25abfff27a",
   "metadata": {},
   "outputs": [
    {
     "name": "stdout",
     "output_type": "stream",
     "text": [
      "Downloading data from https://storage.googleapis.com/tensorflow/tf-keras-datasets/train-labels-idx1-ubyte.gz\n",
      "32768/29515 [=================================] - 0s 1us/step\n",
      "Downloading data from https://storage.googleapis.com/tensorflow/tf-keras-datasets/train-images-idx3-ubyte.gz\n",
      "26427392/26421880 [==============================] - 17s 1us/step\n",
      "Downloading data from https://storage.googleapis.com/tensorflow/tf-keras-datasets/t10k-labels-idx1-ubyte.gz\n",
      "8192/5148 [===============================================] - 0s 1us/step\n",
      "Downloading data from https://storage.googleapis.com/tensorflow/tf-keras-datasets/t10k-images-idx3-ubyte.gz\n",
      "4423680/4422102 [==============================] - 3s 1us/step\n"
     ]
    }
   ],
   "source": [
    "(X_train_full, y_train_full), (X_test, y_test) = fashion_mnist.load_data()"
   ]
  },
  {
   "cell_type": "markdown",
   "id": "4ce2e49e-7e68-4945-ac61-241af1f85111",
   "metadata": {},
   "source": [
    "Note that the features are represented as a 28x28 array, instead of a 1D array of size 784. Plus, pixel intensities are represented as integers."
   ]
  },
  {
   "cell_type": "code",
   "execution_count": 5,
   "id": "f25eb77f-fbfb-4d33-a6a4-2019c33b7555",
   "metadata": {},
   "outputs": [
    {
     "data": {
      "text/plain": [
       "(60000, 28, 28)"
      ]
     },
     "execution_count": 5,
     "metadata": {},
     "output_type": "execute_result"
    }
   ],
   "source": [
    "X_train_full.shape"
   ]
  },
  {
   "cell_type": "code",
   "execution_count": 7,
   "id": "fa772f49-19ea-40ce-a6d5-efdafb7bb162",
   "metadata": {},
   "outputs": [
    {
     "data": {
      "text/plain": [
       "dtype('uint8')"
      ]
     },
     "execution_count": 7,
     "metadata": {},
     "output_type": "execute_result"
    }
   ],
   "source": [
    "X_train_full.dtype"
   ]
  },
  {
   "cell_type": "code",
   "execution_count": 12,
   "id": "a7620ec5-b604-4c64-a83f-65035e070e26",
   "metadata": {},
   "outputs": [
    {
     "data": {
      "text/plain": [
       "array([[  0,   0,   0,   0,   0,   0,   0,   0,   0,   0,   0,   0,   6,\n",
       "          0, 102, 204, 176, 134, 144, 123,  23,   0,   0,   0,   0,  12,\n",
       "         10,   0],\n",
       "       [  0,   0,   0,   0,   0,   0,   0,   0,   0,   0,   0,   0,   0,\n",
       "          0, 155, 236, 207, 178, 107, 156, 161, 109,  64,  23,  77, 130,\n",
       "         72,  15],\n",
       "       [  0,   0,   0,   0,   0,   0,   0,   0,   0,   0,   0,   1,   0,\n",
       "         69, 207, 223, 218, 216, 216, 163, 127, 121, 122, 146, 141,  88,\n",
       "        172,  66],\n",
       "       [  0,   0,   0,   0,   0,   0,   0,   0,   0,   1,   1,   1,   0,\n",
       "        200, 232, 232, 233, 229, 223, 223, 215, 213, 164, 127, 123, 196,\n",
       "        229,   0],\n",
       "       [  0,   0,   0,   0,   0,   0,   0,   0,   0,   0,   0,   0,   0,\n",
       "        183, 225, 216, 223, 228, 235, 227, 224, 222, 224, 221, 223, 245,\n",
       "        173,   0]], dtype=uint8)"
      ]
     },
     "execution_count": 12,
     "metadata": {},
     "output_type": "execute_result"
    }
   ],
   "source": [
    "X_train_full[0, 5:10, :]"
   ]
  },
  {
   "cell_type": "markdown",
   "id": "13cf4500-a273-4c5c-8443-ac9a6f21e2ea",
   "metadata": {},
   "source": [
    "We already have a train and test set, but we are missing a validation set. Plus, for Gradient Descent we need to scale the inputs."
   ]
  },
  {
   "cell_type": "code",
   "execution_count": 8,
   "id": "00e93911-618a-4c9d-8c7a-899e050c70dd",
   "metadata": {},
   "outputs": [],
   "source": [
    "def scale_pixel_intensity(*args):\n",
    "    return [arg/255.0 for arg in args]"
   ]
  },
  {
   "cell_type": "code",
   "execution_count": 13,
   "id": "79e7cfc3-1a33-4bfd-b6ef-33b9d5a5357e",
   "metadata": {},
   "outputs": [],
   "source": [
    "X_train_full, X_test = scale_pixel_intensity(X_train_full, X_test)"
   ]
  },
  {
   "cell_type": "code",
   "execution_count": 15,
   "id": "4b3b0774-57ab-4834-a717-3b98dea3e0d5",
   "metadata": {},
   "outputs": [
    {
     "data": {
      "text/plain": [
       "array([[0.        , 0.        , 0.        , 0.        , 0.        ,\n",
       "        0.        , 0.        , 0.        , 0.        , 0.        ,\n",
       "        0.        , 0.        , 0.02352941, 0.        , 0.4       ,\n",
       "        0.8       , 0.69019608, 0.5254902 , 0.56470588, 0.48235294,\n",
       "        0.09019608, 0.        , 0.        , 0.        , 0.        ,\n",
       "        0.04705882, 0.03921569, 0.        ],\n",
       "       [0.        , 0.        , 0.        , 0.        , 0.        ,\n",
       "        0.        , 0.        , 0.        , 0.        , 0.        ,\n",
       "        0.        , 0.        , 0.        , 0.        , 0.60784314,\n",
       "        0.9254902 , 0.81176471, 0.69803922, 0.41960784, 0.61176471,\n",
       "        0.63137255, 0.42745098, 0.25098039, 0.09019608, 0.30196078,\n",
       "        0.50980392, 0.28235294, 0.05882353]])"
      ]
     },
     "execution_count": 15,
     "metadata": {},
     "output_type": "execute_result"
    }
   ],
   "source": [
    "X_train_full[0, 5:7, :]"
   ]
  },
  {
   "cell_type": "markdown",
   "id": "4a68cbba-2209-42d8-bbf7-8c66a9630684",
   "metadata": {},
   "source": [
    "Nice, we've scaled the input! Now, let's divide the arrays into train and test:"
   ]
  },
  {
   "cell_type": "code",
   "execution_count": 16,
   "id": "8127635b-e61c-4b57-b2c2-84f776a50331",
   "metadata": {},
   "outputs": [],
   "source": [
    "def split_val_train(arr, obs_val=5000):\n",
    "    return arr[:obs_val], arr[obs_val:]"
   ]
  },
  {
   "cell_type": "code",
   "execution_count": 17,
   "id": "af012608-d0df-4764-b562-7724cc3c724e",
   "metadata": {},
   "outputs": [],
   "source": [
    "X_val, X_train = split_val_train(X_train_full)\n",
    "y_val, y_train = split_val_train(y_train_full)"
   ]
  },
  {
   "cell_type": "code",
   "execution_count": 18,
   "id": "78577a33-8307-4943-b58d-86e4d3d78a26",
   "metadata": {},
   "outputs": [],
   "source": [
    "class_names = [\n",
    " \"T-shirt/top\", \"Trouser\", \"Pullover\", \"Dress\", \"Coat\", \"Sandal\", \"Shirt\", \"Sneaker\", \"Bag\", \"Ankle Boat\"\n",
    "]"
   ]
  },
  {
   "cell_type": "code",
   "execution_count": 19,
   "id": "f67b176f-df9e-457e-a9b8-b0aa3094dc8a",
   "metadata": {},
   "outputs": [
    {
     "data": {
      "text/plain": [
       "'Coat'"
      ]
     },
     "execution_count": 19,
     "metadata": {},
     "output_type": "execute_result"
    }
   ],
   "source": [
    "class_names[y_train[0]]"
   ]
  },
  {
   "cell_type": "markdown",
   "id": "8dad4060-886c-45af-b6d6-d01061ac096a",
   "metadata": {},
   "source": [
    "### Create the model using the Sequential API"
   ]
  },
  {
   "cell_type": "code",
   "execution_count": 20,
   "id": "cb3fddfb-2765-4fff-b1fb-9221639cbd76",
   "metadata": {},
   "outputs": [],
   "source": [
    "# sequential model. Simplest model for neural networks, single stack of layers connected sequentially\n",
    "model = keras.models.Sequential()\n",
    "# flattens the array\n",
    "model.add(keras.layers.Flatten(input_shape=[28, 28]))\n",
    "# Dense contains all the connection weights between the neurons and their inputs\n",
    "model.add(keras.layers.Dense(300, activation=\"relu\"))\n",
    "model.add(keras.layers.Dense(100, activation=\"relu\"))\n",
    "# softmax used as classes are exclusive\n",
    "model.add(keras.layers.Dense(10, activation=\"softmax\"))"
   ]
  },
  {
   "cell_type": "code",
   "execution_count": 46,
   "id": "60a93e1b-23bd-4c0b-93fa-768e4227d586",
   "metadata": {},
   "outputs": [],
   "source": [
    "# alternative way to specify a model\n",
    "model = keras.models.Sequential([\n",
    "    keras.layers.Flatten(input_shape=[28, 28]),\n",
    "    keras.layers.Dense(300, activation=\"relu\"),\n",
    "    keras.layers.Dense(100, activation=\"relu\"),\n",
    "    keras.layers.Dense(10, activation=\"softmax\")\n",
    "])"
   ]
  },
  {
   "cell_type": "markdown",
   "id": "ac764df6-255a-43b8-b494-dbc728c0dd69",
   "metadata": {},
   "source": [
    "Checking the layers of the model,"
   ]
  },
  {
   "cell_type": "code",
   "execution_count": 47,
   "id": "2e27e097-ca33-4fb4-a2da-02c97264ec9f",
   "metadata": {},
   "outputs": [
    {
     "name": "stdout",
     "output_type": "stream",
     "text": [
      "Model: \"sequential_2\"\n",
      "_________________________________________________________________\n",
      "Layer (type)                 Output Shape              Param #   \n",
      "=================================================================\n",
      "flatten_2 (Flatten)          (None, 784)               0         \n",
      "_________________________________________________________________\n",
      "dense_6 (Dense)              (None, 300)               235500    \n",
      "_________________________________________________________________\n",
      "dense_7 (Dense)              (None, 100)               30100     \n",
      "_________________________________________________________________\n",
      "dense_8 (Dense)              (None, 10)                1010      \n",
      "=================================================================\n",
      "Total params: 266,610\n",
      "Trainable params: 266,610\n",
      "Non-trainable params: 0\n",
      "_________________________________________________________________\n"
     ]
    }
   ],
   "source": [
    "model.summary()"
   ]
  },
  {
   "cell_type": "markdown",
   "id": "c66c29d2-2392-4930-8bf1-b126bed4519e",
   "metadata": {},
   "source": [
    "#### Understanding the number of parameters"
   ]
  },
  {
   "cell_type": "markdown",
   "id": "1a8d48cb-580e-4502-8f37-504af74febfa",
   "metadata": {},
   "source": [
    "- The Flatten layers is simply an input operation, so it has 0 parameters\n",
    "\n",
    "- The dense layers, however, have to estimate all values of the weight matrix, plus the bias terms:"
   ]
  },
  {
   "cell_type": "code",
   "execution_count": 48,
   "id": "89c72022-38de-4d74-a4da-317c897a3481",
   "metadata": {},
   "outputs": [
    {
     "data": {
      "text/plain": [
       "235500"
      ]
     },
     "execution_count": 48,
     "metadata": {},
     "output_type": "execute_result"
    }
   ],
   "source": [
    "# first layer\n",
    "weights_in_matrix = 784*300\n",
    "bias_terms = 300\n",
    "weights_in_matrix + bias_terms"
   ]
  },
  {
   "cell_type": "code",
   "execution_count": 49,
   "id": "1fa98988-0e90-4a80-87cb-6ed167e0f665",
   "metadata": {},
   "outputs": [
    {
     "data": {
      "text/plain": [
       "(30100, 1010)"
      ]
     },
     "execution_count": 49,
     "metadata": {},
     "output_type": "execute_result"
    }
   ],
   "source": [
    "# other weights\n",
    "301*100, 101*10"
   ]
  },
  {
   "cell_type": "markdown",
   "id": "ce019385-c816-4bc1-9c38-e29c2f89f1cf",
   "metadata": {},
   "source": [
    "#### Accessing the layers"
   ]
  },
  {
   "cell_type": "code",
   "execution_count": 50,
   "id": "e9463b10-456a-4b8b-b2ad-b4a9d04a83ac",
   "metadata": {},
   "outputs": [
    {
     "data": {
      "text/plain": [
       "[<tensorflow.python.keras.layers.core.Flatten at 0x189c46250>,\n",
       " <tensorflow.python.keras.layers.core.Dense at 0x189c46610>,\n",
       " <tensorflow.python.keras.layers.core.Dense at 0x189c46a60>,\n",
       " <tensorflow.python.keras.layers.core.Dense at 0x189c46a90>]"
      ]
     },
     "execution_count": 50,
     "metadata": {},
     "output_type": "execute_result"
    }
   ],
   "source": [
    "model.layers"
   ]
  },
  {
   "cell_type": "code",
   "execution_count": 51,
   "id": "2252ce26-2585-4ae7-8348-446e5a6d78f6",
   "metadata": {},
   "outputs": [
    {
     "data": {
      "text/plain": [
       "'dense_6'"
      ]
     },
     "execution_count": 51,
     "metadata": {},
     "output_type": "execute_result"
    }
   ],
   "source": [
    "model.layers[1].name"
   ]
  },
  {
   "cell_type": "code",
   "execution_count": 56,
   "id": "3d2a3e05-8f10-4259-857a-87efad6ca6d7",
   "metadata": {},
   "outputs": [
    {
     "ename": "ValueError",
     "evalue": "No such layer: dense_3.",
     "output_type": "error",
     "traceback": [
      "\u001b[0;31m---------------------------------------------------------------------------\u001b[0m",
      "\u001b[0;31mValueError\u001b[0m                                Traceback (most recent call last)",
      "\u001b[0;32m<ipython-input-56-7904b872f4b7>\u001b[0m in \u001b[0;36m<module>\u001b[0;34m\u001b[0m\n\u001b[1;32m      1\u001b[0m \u001b[0;31m# access by name\u001b[0m\u001b[0;34m\u001b[0m\u001b[0;34m\u001b[0m\u001b[0;34m\u001b[0m\u001b[0m\n\u001b[0;32m----> 2\u001b[0;31m \u001b[0mmodel\u001b[0m\u001b[0;34m.\u001b[0m\u001b[0mget_layer\u001b[0m\u001b[0;34m(\u001b[0m\u001b[0;34m'dense_3'\u001b[0m\u001b[0;34m)\u001b[0m \u001b[0;32mis\u001b[0m \u001b[0mmodel\u001b[0m\u001b[0;34m.\u001b[0m\u001b[0mlayers\u001b[0m\u001b[0;34m[\u001b[0m\u001b[0;36m1\u001b[0m\u001b[0;34m]\u001b[0m\u001b[0;34m\u001b[0m\u001b[0;34m\u001b[0m\u001b[0m\n\u001b[0m",
      "\u001b[0;32m~/.Envs/ml/lib/python3.8/site-packages/tensorflow/python/keras/engine/training.py\u001b[0m in \u001b[0;36mget_layer\u001b[0;34m(self, name, index)\u001b[0m\n\u001b[1;32m   2522\u001b[0m         \u001b[0;32mif\u001b[0m \u001b[0mlayer\u001b[0m\u001b[0;34m.\u001b[0m\u001b[0mname\u001b[0m \u001b[0;34m==\u001b[0m \u001b[0mname\u001b[0m\u001b[0;34m:\u001b[0m\u001b[0;34m\u001b[0m\u001b[0;34m\u001b[0m\u001b[0m\n\u001b[1;32m   2523\u001b[0m           \u001b[0;32mreturn\u001b[0m \u001b[0mlayer\u001b[0m\u001b[0;34m\u001b[0m\u001b[0;34m\u001b[0m\u001b[0m\n\u001b[0;32m-> 2524\u001b[0;31m       \u001b[0;32mraise\u001b[0m \u001b[0mValueError\u001b[0m\u001b[0;34m(\u001b[0m\u001b[0;34m'No such layer: '\u001b[0m \u001b[0;34m+\u001b[0m \u001b[0mname\u001b[0m \u001b[0;34m+\u001b[0m \u001b[0;34m'.'\u001b[0m\u001b[0;34m)\u001b[0m\u001b[0;34m\u001b[0m\u001b[0;34m\u001b[0m\u001b[0m\n\u001b[0m\u001b[1;32m   2525\u001b[0m     \u001b[0;32mraise\u001b[0m \u001b[0mValueError\u001b[0m\u001b[0;34m(\u001b[0m\u001b[0;34m'Provide either a layer name or layer index.'\u001b[0m\u001b[0;34m)\u001b[0m\u001b[0;34m\u001b[0m\u001b[0;34m\u001b[0m\u001b[0m\n\u001b[1;32m   2526\u001b[0m \u001b[0;34m\u001b[0m\u001b[0m\n",
      "\u001b[0;31mValueError\u001b[0m: No such layer: dense_3."
     ]
    }
   ],
   "source": [
    "# access by name\n",
    "model.get_layer('dense_3') is model.layers[1]"
   ]
  },
  {
   "cell_type": "code",
   "execution_count": 57,
   "id": "32d973b9-035e-4aa2-b4ff-35334b9cc0ce",
   "metadata": {},
   "outputs": [],
   "source": [
    "# access weights and biases of each layer"
   ]
  },
  {
   "cell_type": "code",
   "execution_count": 58,
   "id": "2a4d3f93-3676-451e-a2c7-caa5e05f2a15",
   "metadata": {},
   "outputs": [
    {
     "ename": "ValueError",
     "evalue": "No such layer: dense_3.",
     "output_type": "error",
     "traceback": [
      "\u001b[0;31m---------------------------------------------------------------------------\u001b[0m",
      "\u001b[0;31mValueError\u001b[0m                                Traceback (most recent call last)",
      "\u001b[0;32m<ipython-input-58-306565c6505d>\u001b[0m in \u001b[0;36m<module>\u001b[0;34m\u001b[0m\n\u001b[0;32m----> 1\u001b[0;31m \u001b[0mhidden1\u001b[0m \u001b[0;34m=\u001b[0m \u001b[0mmodel\u001b[0m\u001b[0;34m.\u001b[0m\u001b[0mget_layer\u001b[0m\u001b[0;34m(\u001b[0m\u001b[0;34m'dense_3'\u001b[0m\u001b[0;34m)\u001b[0m\u001b[0;34m\u001b[0m\u001b[0;34m\u001b[0m\u001b[0m\n\u001b[0m\u001b[1;32m      2\u001b[0m \u001b[0mweights\u001b[0m\u001b[0;34m,\u001b[0m \u001b[0mbiases\u001b[0m \u001b[0;34m=\u001b[0m \u001b[0mhidden1\u001b[0m\u001b[0;34m.\u001b[0m\u001b[0mget_weights\u001b[0m\u001b[0;34m(\u001b[0m\u001b[0;34m)\u001b[0m\u001b[0;34m\u001b[0m\u001b[0;34m\u001b[0m\u001b[0m\n",
      "\u001b[0;32m~/.Envs/ml/lib/python3.8/site-packages/tensorflow/python/keras/engine/training.py\u001b[0m in \u001b[0;36mget_layer\u001b[0;34m(self, name, index)\u001b[0m\n\u001b[1;32m   2522\u001b[0m         \u001b[0;32mif\u001b[0m \u001b[0mlayer\u001b[0m\u001b[0;34m.\u001b[0m\u001b[0mname\u001b[0m \u001b[0;34m==\u001b[0m \u001b[0mname\u001b[0m\u001b[0;34m:\u001b[0m\u001b[0;34m\u001b[0m\u001b[0;34m\u001b[0m\u001b[0m\n\u001b[1;32m   2523\u001b[0m           \u001b[0;32mreturn\u001b[0m \u001b[0mlayer\u001b[0m\u001b[0;34m\u001b[0m\u001b[0;34m\u001b[0m\u001b[0m\n\u001b[0;32m-> 2524\u001b[0;31m       \u001b[0;32mraise\u001b[0m \u001b[0mValueError\u001b[0m\u001b[0;34m(\u001b[0m\u001b[0;34m'No such layer: '\u001b[0m \u001b[0;34m+\u001b[0m \u001b[0mname\u001b[0m \u001b[0;34m+\u001b[0m \u001b[0;34m'.'\u001b[0m\u001b[0;34m)\u001b[0m\u001b[0;34m\u001b[0m\u001b[0;34m\u001b[0m\u001b[0m\n\u001b[0m\u001b[1;32m   2525\u001b[0m     \u001b[0;32mraise\u001b[0m \u001b[0mValueError\u001b[0m\u001b[0;34m(\u001b[0m\u001b[0;34m'Provide either a layer name or layer index.'\u001b[0m\u001b[0;34m)\u001b[0m\u001b[0;34m\u001b[0m\u001b[0;34m\u001b[0m\u001b[0m\n\u001b[1;32m   2526\u001b[0m \u001b[0;34m\u001b[0m\u001b[0m\n",
      "\u001b[0;31mValueError\u001b[0m: No such layer: dense_3."
     ]
    }
   ],
   "source": [
    "hidden1 = model.get_layer('dense_3')\n",
    "weights, biases = hidden1.get_weights()"
   ]
  },
  {
   "cell_type": "markdown",
   "id": "2bdbe84a-37d6-4b1a-a954-ce0b3db3becb",
   "metadata": {},
   "source": [
    "Notice that the weights have already been initialised randomly! To use a different initialisation method, set `kernel_initializer` or `bias_initializer`"
   ]
  },
  {
   "cell_type": "code",
   "execution_count": 59,
   "id": "fec620f0-65e8-45ab-81d3-484d4ba130f7",
   "metadata": {},
   "outputs": [
    {
     "data": {
      "text/plain": [
       "((784, 300),\n",
       " array([ 0.04552876,  0.02128465,  0.05327184, -0.0100558 , -0.00590967,\n",
       "         0.03044536,  0.00317791,  0.03155639, -0.04547326,  0.05562884],\n",
       "       dtype=float32))"
      ]
     },
     "execution_count": 59,
     "metadata": {},
     "output_type": "execute_result"
    }
   ],
   "source": [
    "weights.shape, weights[0, :10]"
   ]
  },
  {
   "cell_type": "code",
   "execution_count": 60,
   "id": "64a1babb-51a8-4dd3-8bb7-263bf464ccf1",
   "metadata": {},
   "outputs": [
    {
     "data": {
      "text/plain": [
       "(300,)"
      ]
     },
     "execution_count": 60,
     "metadata": {},
     "output_type": "execute_result"
    }
   ],
   "source": [
    "biases.shape"
   ]
  },
  {
   "cell_type": "markdown",
   "id": "620d6148-858f-4b9c-8242-096b44534bdb",
   "metadata": {},
   "source": [
    "#### Compiling the model"
   ]
  },
  {
   "cell_type": "code",
   "execution_count": 61,
   "id": "b291b7ea-3f79-4b5a-8cdf-0fc15e6c09d7",
   "metadata": {},
   "outputs": [],
   "source": [
    "model.compile(\n",
    "    loss=\"sparse_categorical_crossentropy\",\n",
    "    optimizer=\"sgd\",\n",
    "    metrics=[\"accuracy\"]\n",
    ")"
   ]
  },
  {
   "cell_type": "markdown",
   "id": "43ab5cb6-a5b7-4d07-98e5-be26e5f6d1f2",
   "metadata": {},
   "source": [
    "Explanation:\n",
    "- loss\n",
    "  - parse, because the target class is not a one-hot vector, but integers from 0 to 9\n",
    "  - categorical, since we are predicting multiple exclusive classes; otherwise, we would use \"sigmoid\" in output layer, and \"binary_crossentropy\"\n",
    "- optimizer: simple stochastic gradient descent, i.e. the backpropagation algorithm. We can tune the learning rate by adding the `lr` parameter and use `keras.optimizer.SGD`"
   ]
  },
  {
   "cell_type": "markdown",
   "id": "de8bd56d-bdb7-4707-8e6e-1ada6c836365",
   "metadata": {},
   "source": [
    "#### Training and evaluating the model"
   ]
  },
  {
   "cell_type": "code",
   "execution_count": 62,
   "id": "ac9ee0a8-d07f-493e-a50f-a4777f09faff",
   "metadata": {},
   "outputs": [
    {
     "data": {
      "text/plain": [
       "(55000, 28, 28)"
      ]
     },
     "execution_count": 62,
     "metadata": {},
     "output_type": "execute_result"
    }
   ],
   "source": [
    "X_train.shape"
   ]
  },
  {
   "cell_type": "code",
   "execution_count": 63,
   "id": "c98ad773-b47f-49cd-b09e-49ca80805326",
   "metadata": {},
   "outputs": [
    {
     "name": "stdout",
     "output_type": "stream",
     "text": [
      "Epoch 1/30\n",
      "1719/1719 [==============================] - 2s 911us/step - loss: 0.7285 - accuracy: 0.7588 - val_loss: 0.5018 - val_accuracy: 0.8276\n",
      "Epoch 2/30\n",
      "1719/1719 [==============================] - 1s 866us/step - loss: 0.4884 - accuracy: 0.8307 - val_loss: 0.4369 - val_accuracy: 0.8502\n",
      "Epoch 3/30\n",
      "1719/1719 [==============================] - 1s 862us/step - loss: 0.4430 - accuracy: 0.8453 - val_loss: 0.4155 - val_accuracy: 0.8568\n",
      "Epoch 4/30\n",
      "1719/1719 [==============================] - 1s 864us/step - loss: 0.4145 - accuracy: 0.8545 - val_loss: 0.3903 - val_accuracy: 0.8654\n",
      "Epoch 5/30\n",
      "1719/1719 [==============================] - 1s 866us/step - loss: 0.3957 - accuracy: 0.8603 - val_loss: 0.3765 - val_accuracy: 0.8674\n",
      "Epoch 6/30\n",
      "1719/1719 [==============================] - 1s 864us/step - loss: 0.3799 - accuracy: 0.8649 - val_loss: 0.3666 - val_accuracy: 0.8680\n",
      "Epoch 7/30\n",
      "1719/1719 [==============================] - 1s 865us/step - loss: 0.3665 - accuracy: 0.8685 - val_loss: 0.3649 - val_accuracy: 0.8752\n",
      "Epoch 8/30\n",
      "1719/1719 [==============================] - 2s 896us/step - loss: 0.3545 - accuracy: 0.8729 - val_loss: 0.3531 - val_accuracy: 0.8778\n",
      "Epoch 9/30\n",
      "1719/1719 [==============================] - 1s 870us/step - loss: 0.3459 - accuracy: 0.8770 - val_loss: 0.3539 - val_accuracy: 0.8764\n",
      "Epoch 10/30\n",
      "1719/1719 [==============================] - 2s 875us/step - loss: 0.3351 - accuracy: 0.8791 - val_loss: 0.3373 - val_accuracy: 0.8798\n",
      "Epoch 11/30\n",
      "1719/1719 [==============================] - 1s 865us/step - loss: 0.3276 - accuracy: 0.8845 - val_loss: 0.3609 - val_accuracy: 0.8726\n",
      "Epoch 12/30\n",
      "1719/1719 [==============================] - 1s 865us/step - loss: 0.3193 - accuracy: 0.8851 - val_loss: 0.3419 - val_accuracy: 0.8774\n",
      "Epoch 13/30\n",
      "1719/1719 [==============================] - 2s 875us/step - loss: 0.3129 - accuracy: 0.8888 - val_loss: 0.3447 - val_accuracy: 0.8758\n",
      "Epoch 14/30\n",
      "1719/1719 [==============================] - 1s 866us/step - loss: 0.3065 - accuracy: 0.8897 - val_loss: 0.3233 - val_accuracy: 0.8830\n",
      "Epoch 15/30\n",
      "1719/1719 [==============================] - 1s 870us/step - loss: 0.3000 - accuracy: 0.8920 - val_loss: 0.3243 - val_accuracy: 0.8848\n",
      "Epoch 16/30\n",
      "1719/1719 [==============================] - 2s 911us/step - loss: 0.2934 - accuracy: 0.8953 - val_loss: 0.3276 - val_accuracy: 0.8826\n",
      "Epoch 17/30\n",
      "1719/1719 [==============================] - 1s 863us/step - loss: 0.2885 - accuracy: 0.8945 - val_loss: 0.3171 - val_accuracy: 0.8900\n",
      "Epoch 18/30\n",
      "1719/1719 [==============================] - 1s 871us/step - loss: 0.2831 - accuracy: 0.8974 - val_loss: 0.3276 - val_accuracy: 0.8812\n",
      "Epoch 19/30\n",
      "1719/1719 [==============================] - 1s 866us/step - loss: 0.2776 - accuracy: 0.8998 - val_loss: 0.3169 - val_accuracy: 0.8834\n",
      "Epoch 20/30\n",
      "1719/1719 [==============================] - 1s 868us/step - loss: 0.2738 - accuracy: 0.9005 - val_loss: 0.3178 - val_accuracy: 0.8870\n",
      "Epoch 21/30\n",
      "1719/1719 [==============================] - 2s 879us/step - loss: 0.2684 - accuracy: 0.9039 - val_loss: 0.3056 - val_accuracy: 0.8898\n",
      "Epoch 22/30\n",
      "1719/1719 [==============================] - 1s 868us/step - loss: 0.2634 - accuracy: 0.9041 - val_loss: 0.3065 - val_accuracy: 0.8862\n",
      "Epoch 23/30\n",
      "1719/1719 [==============================] - 2s 884us/step - loss: 0.2594 - accuracy: 0.9057 - val_loss: 0.3053 - val_accuracy: 0.8924\n",
      "Epoch 24/30\n",
      "1719/1719 [==============================] - 1s 868us/step - loss: 0.2537 - accuracy: 0.9085 - val_loss: 0.2995 - val_accuracy: 0.8878\n",
      "Epoch 25/30\n",
      "1719/1719 [==============================] - 1s 866us/step - loss: 0.2506 - accuracy: 0.9096 - val_loss: 0.3024 - val_accuracy: 0.8924\n",
      "Epoch 26/30\n",
      "1719/1719 [==============================] - 1s 870us/step - loss: 0.2458 - accuracy: 0.9118 - val_loss: 0.3051 - val_accuracy: 0.8890\n",
      "Epoch 27/30\n",
      "1719/1719 [==============================] - 1s 869us/step - loss: 0.2413 - accuracy: 0.9133 - val_loss: 0.3010 - val_accuracy: 0.8898\n",
      "Epoch 28/30\n",
      "1719/1719 [==============================] - 1s 867us/step - loss: 0.2375 - accuracy: 0.9145 - val_loss: 0.3124 - val_accuracy: 0.8876\n",
      "Epoch 29/30\n",
      "1719/1719 [==============================] - 1s 864us/step - loss: 0.2344 - accuracy: 0.9154 - val_loss: 0.3064 - val_accuracy: 0.8888\n",
      "Epoch 30/30\n",
      "1719/1719 [==============================] - 1s 872us/step - loss: 0.2302 - accuracy: 0.9175 - val_loss: 0.2965 - val_accuracy: 0.8934\n"
     ]
    }
   ],
   "source": [
    "history = model.fit(\n",
    "  X_train, y_train, epochs=30, validation_data=(X_val, y_val)\n",
    ")"
   ]
  },
  {
   "cell_type": "markdown",
   "id": "ad3355da-10ec-49e7-b2ac-c96445984cf9",
   "metadata": {},
   "source": [
    "Note: instead of passing `validation_data`, you can pass `validation_split=.1` to use 10 % of the data for validation"
   ]
  },
  {
   "cell_type": "code",
   "execution_count": 64,
   "id": "7a4bba79-769c-4c8a-a9a2-caf50897d687",
   "metadata": {},
   "outputs": [
    {
     "name": "stdout",
     "output_type": "stream",
     "text": [
      "Epoch 1/15\n",
      "1547/1547 [==============================] - 1s 900us/step - loss: 0.2262 - accuracy: 0.9189 - val_loss: 0.2263 - val_accuracy: 0.9153\n",
      "Epoch 2/15\n",
      "1547/1547 [==============================] - 1s 886us/step - loss: 0.2232 - accuracy: 0.9197 - val_loss: 0.2291 - val_accuracy: 0.9129\n",
      "Epoch 3/15\n",
      "1547/1547 [==============================] - 1s 885us/step - loss: 0.2199 - accuracy: 0.9214 - val_loss: 0.2353 - val_accuracy: 0.9129\n",
      "Epoch 4/15\n",
      "1547/1547 [==============================] - 1s 886us/step - loss: 0.2152 - accuracy: 0.9217 - val_loss: 0.2315 - val_accuracy: 0.9136\n",
      "Epoch 5/15\n",
      "1547/1547 [==============================] - 1s 887us/step - loss: 0.2124 - accuracy: 0.9238 - val_loss: 0.2397 - val_accuracy: 0.9067\n",
      "Epoch 6/15\n",
      "1547/1547 [==============================] - 1s 886us/step - loss: 0.2084 - accuracy: 0.9242 - val_loss: 0.2352 - val_accuracy: 0.9109\n",
      "Epoch 7/15\n",
      "1547/1547 [==============================] - 1s 885us/step - loss: 0.2054 - accuracy: 0.9257 - val_loss: 0.2435 - val_accuracy: 0.9093\n",
      "Epoch 8/15\n",
      "1547/1547 [==============================] - 1s 903us/step - loss: 0.2026 - accuracy: 0.9265 - val_loss: 0.2349 - val_accuracy: 0.9142\n",
      "Epoch 9/15\n",
      "1547/1547 [==============================] - 1s 900us/step - loss: 0.1999 - accuracy: 0.9285 - val_loss: 0.2473 - val_accuracy: 0.9056\n",
      "Epoch 10/15\n",
      "1547/1547 [==============================] - 1s 888us/step - loss: 0.1962 - accuracy: 0.9304 - val_loss: 0.2339 - val_accuracy: 0.9113\n",
      "Epoch 11/15\n",
      "1547/1547 [==============================] - 1s 892us/step - loss: 0.1926 - accuracy: 0.9312 - val_loss: 0.2444 - val_accuracy: 0.9105\n",
      "Epoch 12/15\n",
      "1547/1547 [==============================] - 1s 888us/step - loss: 0.1903 - accuracy: 0.9323 - val_loss: 0.2490 - val_accuracy: 0.9071\n",
      "Epoch 13/15\n",
      "1547/1547 [==============================] - 1s 888us/step - loss: 0.1877 - accuracy: 0.9331 - val_loss: 0.2357 - val_accuracy: 0.9118\n",
      "Epoch 14/15\n",
      "1547/1547 [==============================] - 1s 886us/step - loss: 0.1841 - accuracy: 0.9353 - val_loss: 0.2353 - val_accuracy: 0.9109\n",
      "Epoch 15/15\n",
      "1547/1547 [==============================] - 1s 891us/step - loss: 0.1812 - accuracy: 0.9351 - val_loss: 0.2521 - val_accuracy: 0.9016\n"
     ]
    }
   ],
   "source": [
    "history = model.fit(\n",
    "  X_train, y_train, epochs=15, validation_split=.1\n",
    ")"
   ]
  },
  {
   "cell_type": "markdown",
   "id": "7df474ef-2894-4e05-963d-631fd37793e2",
   "metadata": {},
   "source": [
    "The fit method returns a `History` object that contains `params`, `epoch` (the list of epochs it went through), and history, a dictionary containing the loss and extra metrics it measured at the end of each epoch on the training set and on the validation set."
   ]
  },
  {
   "cell_type": "code",
   "execution_count": 65,
   "id": "520d9437-8a62-4234-b957-1ce4f3ab4dc6",
   "metadata": {},
   "outputs": [
    {
     "data": {
      "text/plain": [
       "{'verbose': 1, 'epochs': 15, 'steps': 1547}"
      ]
     },
     "execution_count": 65,
     "metadata": {},
     "output_type": "execute_result"
    }
   ],
   "source": [
    "history.params"
   ]
  },
  {
   "cell_type": "code",
   "execution_count": 66,
   "id": "ffdb14ec-9965-498d-b3c8-630af55ea3b1",
   "metadata": {},
   "outputs": [
    {
     "data": {
      "text/plain": [
       "[0, 1, 2, 3, 4, 5, 6, 7, 8, 9, 10, 11, 12, 13, 14]"
      ]
     },
     "execution_count": 66,
     "metadata": {},
     "output_type": "execute_result"
    }
   ],
   "source": [
    "history.epoch"
   ]
  },
  {
   "cell_type": "code",
   "execution_count": 68,
   "id": "c5cea051-b503-4709-8068-b0ec7e3bb0c6",
   "metadata": {},
   "outputs": [
    {
     "data": {
      "text/plain": [
       "dict_keys(['loss', 'accuracy', 'val_loss', 'val_accuracy'])"
      ]
     },
     "execution_count": 68,
     "metadata": {},
     "output_type": "execute_result"
    }
   ],
   "source": [
    "history.history.keys()"
   ]
  },
  {
   "cell_type": "markdown",
   "id": "d5136e83-187b-480d-8ef4-26a75843d53f",
   "metadata": {},
   "source": [
    "Let's use this history dictionary to represent the evolution of accuracy over the number of epochs:"
   ]
  },
  {
   "cell_type": "code",
   "execution_count": 72,
   "id": "bbe24249-228b-4649-871f-89d2a7a8ff94",
   "metadata": {},
   "outputs": [
    {
     "data": {
      "text/plain": [
       "(0.8, 1.0)"
      ]
     },
     "execution_count": 72,
     "metadata": {},
     "output_type": "execute_result"
    },
    {
     "data": {
      "image/png": "[encoded data removed]",
      "text/plain": [
       "<Figure size 576x360 with 1 Axes>"
      ]
     },
     "metadata": {
      "needs_background": "light"
     },
     "output_type": "display_data"
    }
   ],
   "source": [
    "import pandas as pd\n",
    "import matplotlib.pyplot as plt\n",
    "\n",
    "hist_accuracy = {'accuracy': history.history['accuracy'], 'validation_accuracy': history.history['val_accuracy']}\n",
    "pd.DataFrame(hist_accuracy).plot(figsize=(8, 5))\n",
    "plt.grid(True)\n",
    "plt.gca().set_ylim(0.8, 1)  # set the vertical range to [0, 1]"
   ]
  },
  {
   "cell_type": "markdown",
   "id": "59d2e589-3e8c-43bb-8863-2250bce79558",
   "metadata": {},
   "source": [
    "The train and validation errors are not computed in the same way, which may be misleading. While the train error is computed as a running mean of the batches within each epoch, the validation error is computed at the end of each epoch on the validation set."
   ]
  },
  {
   "cell_type": "code",
   "execution_count": 73,
   "id": "45d0c46e-f3a2-4da4-9db3-f611d06b4bc6",
   "metadata": {},
   "outputs": [
    {
     "name": "stdout",
     "output_type": "stream",
     "text": [
      "313/313 [==============================] - 0s 613us/step - loss: 0.3383 - accuracy: 0.8799\n"
     ]
    },
    {
     "data": {
      "text/plain": [
       "[0.33828675746917725, 0.8798999786376953]"
      ]
     },
     "execution_count": 73,
     "metadata": {},
     "output_type": "execute_result"
    }
   ],
   "source": [
    "model.evaluate(X_test, y_test)"
   ]
  },
  {
   "cell_type": "markdown",
   "id": "ea6524cf-0c5d-4b80-b856-bfaef73a3275",
   "metadata": {},
   "source": [
    "#### Make predictions"
   ]
  },
  {
   "cell_type": "code",
   "execution_count": 74,
   "id": "d4cac1c5-b421-4af6-bd32-96d3b71c5d70",
   "metadata": {},
   "outputs": [],
   "source": [
    "X_new = X_test[:3]"
   ]
  },
  {
   "cell_type": "code",
   "execution_count": 81,
   "id": "ef401af7-58f1-4e0f-99c8-5ca034449474",
   "metadata": {},
   "outputs": [],
   "source": [
    "y_proba = model.predict(X_new)"
   ]
  },
  {
   "cell_type": "code",
   "execution_count": 82,
   "id": "fee82644-0f96-4a30-9bab-7ab529c1931d",
   "metadata": {},
   "outputs": [
    {
     "data": {
      "text/plain": [
       "numpy.ndarray"
      ]
     },
     "execution_count": 82,
     "metadata": {},
     "output_type": "execute_result"
    }
   ],
   "source": [
    "type(y_proba)"
   ]
  },
  {
   "cell_type": "code",
   "execution_count": 84,
   "id": "275d4904-1227-4b4e-bddd-e8a1c020d540",
   "metadata": {},
   "outputs": [
    {
     "data": {
      "text/plain": [
       "array([[0.   , 0.   , 0.   , 0.   , 0.   , 0.   , 0.   , 0.002, 0.   ,\n",
       "        0.998],\n",
       "       [0.   , 0.   , 1.   , 0.   , 0.   , 0.   , 0.   , 0.   , 0.   ,\n",
       "        0.   ],\n",
       "       [0.   , 1.   , 0.   , 0.   , 0.   , 0.   , 0.   , 0.   , 0.   ,\n",
       "        0.   ]], dtype=float32)"
      ]
     },
     "execution_count": 84,
     "metadata": {},
     "output_type": "execute_result"
    }
   ],
   "source": [
    "y_proba.round(3)"
   ]
  },
  {
   "cell_type": "markdown",
   "id": "d01c6e96-bcb9-4f18-a622-ccb6eddf2cb9",
   "metadata": {},
   "source": [
    "To directly choose the largest probability to do classification, you can use `predict_classes` instead:"
   ]
  },
  {
   "cell_type": "code",
   "execution_count": 89,
   "id": "cc5cd2f2-3802-4b86-87c4-4f405cb14305",
   "metadata": {},
   "outputs": [
    {
     "data": {
      "text/plain": [
       "array([9, 2, 1])"
      ]
     },
     "execution_count": 89,
     "metadata": {},
     "output_type": "execute_result"
    }
   ],
   "source": [
    "y_pred = np.argmax(y_proba, axis=-1)\n",
    "y_pred"
   ]
  },
  {
   "cell_type": "code",
   "execution_count": 90,
   "id": "447e4d23-a56a-4ae4-94ca-246a09c6a92f",
   "metadata": {},
   "outputs": [
    {
     "data": {
      "text/plain": [
       "array(['Ankle Boat', 'Pullover', 'Trouser'], dtype='<U11')"
      ]
     },
     "execution_count": 90,
     "metadata": {},
     "output_type": "execute_result"
    }
   ],
   "source": [
    "np.array(class_names)[y_pred]"
   ]
  },
  {
   "cell_type": "markdown",
   "id": "e7e1574e-454a-4f57-8f50-c3cde36dd1c3",
   "metadata": {},
   "source": [
    "Let's check these images:"
   ]
  },
  {
   "cell_type": "code",
   "execution_count": 91,
   "id": "b519ef80-7956-4315-8352-d643bcae637d",
   "metadata": {},
   "outputs": [
    {
     "data": {
      "text/plain": [
       "array(['Ankle Boat', 'Pullover', 'Trouser'], dtype='<U11')"
      ]
     },
     "execution_count": 91,
     "metadata": {},
     "output_type": "execute_result"
    }
   ],
   "source": [
    "np.array(class_names)[y_test[:3]]"
   ]
  },
  {
   "cell_type": "markdown",
   "id": "cc84afae-c5db-4329-b623-436723813333",
   "metadata": {},
   "source": [
    "## Regression MLP using the Sequential API"
   ]
  },
  {
   "cell_type": "code",
   "execution_count": 92,
   "id": "11462f59-5288-41ab-89ee-d74f20e163ac",
   "metadata": {},
   "outputs": [],
   "source": [
    "from sklearn.datasets import fetch_california_housing\n",
    "from sklearn.model_selection import train_test_split\n",
    "from sklearn.preprocessing import StandardScaler"
   ]
  },
  {
   "cell_type": "code",
   "execution_count": 93,
   "id": "b68e370f-2dd2-41a8-beec-bc4b138e54bc",
   "metadata": {},
   "outputs": [],
   "source": [
    "housing = fetch_california_housing()"
   ]
  },
  {
   "cell_type": "code",
   "execution_count": 97,
   "id": "cbe32a31-3e9b-43cf-8b01-405db410c1a0",
   "metadata": {},
   "outputs": [
    {
     "data": {
      "text/plain": [
       "(numpy.ndarray, numpy.ndarray)"
      ]
     },
     "execution_count": 97,
     "metadata": {},
     "output_type": "execute_result"
    }
   ],
   "source": [
    "type(housing.data), type(housing.target)"
   ]
  },
  {
   "cell_type": "code",
   "execution_count": 98,
   "id": "9782391f-3618-4396-8ccb-4a6a2d0ccff4",
   "metadata": {},
   "outputs": [],
   "source": [
    "X_train_full, X_test, y_train_full, y_test = train_test_split(\n",
    "  housing.data, housing.target\n",
    ")\n",
    "X_train, X_valid, y_train, y_valid = train_test_split(X_train_full, y_train_full)"
   ]
  },
  {
   "cell_type": "code",
   "execution_count": 100,
   "id": "13c764ce-a21c-42a6-8d3e-e918be5bd0a8",
   "metadata": {},
   "outputs": [],
   "source": [
    "scaler = StandardScaler()\n",
    "X_train = scaler.fit_transform(X_train)\n",
    "X_valid = scaler.transform(X_valid)\n",
    "X_test = scaler.transform(X_test)"
   ]
  },
  {
   "cell_type": "markdown",
   "id": "6c1391e1-c96f-47b3-8ffa-08fea838ed81",
   "metadata": {},
   "source": [
    "Differences w.r.t. Neural Network for classification:\n",
    "- Output, single neuron with no activation function\n",
    "- Need to change the loss function to `mean_squared_error`, for example\n",
    "- Since dataset is quite noisy, try to use fewer neurons to avoid overfitting"
   ]
  },
  {
   "cell_type": "code",
   "execution_count": 107,
   "id": "4e3ef94c-a88f-42a2-967f-b7d34a266e78",
   "metadata": {},
   "outputs": [],
   "source": [
    "model = keras.models.Sequential([\n",
    "    keras.layers.Dense(20, activation=\"relu\", input_shape=X_train.shape[1:]),\n",
    "    keras.layers.Dense(1)\n",
    "])\n",
    "model.compile(loss=\"mean_squared_error\", optimizer=\"sgd\")"
   ]
  },
  {
   "cell_type": "code",
   "execution_count": 108,
   "id": "cba5c217-60e3-400c-9306-c63eb679fa29",
   "metadata": {},
   "outputs": [
    {
     "name": "stdout",
     "output_type": "stream",
     "text": [
      "Model: \"sequential_4\"\n",
      "_________________________________________________________________\n",
      "Layer (type)                 Output Shape              Param #   \n",
      "=================================================================\n",
      "dense_11 (Dense)             (None, 20)                180       \n",
      "_________________________________________________________________\n",
      "dense_12 (Dense)             (None, 1)                 21        \n",
      "=================================================================\n",
      "Total params: 201\n",
      "Trainable params: 201\n",
      "Non-trainable params: 0\n",
      "_________________________________________________________________\n"
     ]
    }
   ],
   "source": [
    "model.summary()"
   ]
  },
  {
   "cell_type": "code",
   "execution_count": 109,
   "id": "363efdd3-4b81-49cb-aac2-2adad15d39bf",
   "metadata": {},
   "outputs": [
    {
     "name": "stdout",
     "output_type": "stream",
     "text": [
      "Epoch 1/15\n",
      "363/363 [==============================] - 0s 768us/step - loss: 0.8327 - val_loss: 0.6541\n",
      "Epoch 2/15\n",
      "363/363 [==============================] - 0s 584us/step - loss: 0.4911 - val_loss: 0.5394\n",
      "Epoch 3/15\n",
      "363/363 [==============================] - 0s 590us/step - loss: 0.4396 - val_loss: 0.6589\n",
      "Epoch 4/15\n",
      "363/363 [==============================] - 0s 608us/step - loss: 0.4272 - val_loss: 0.6417\n",
      "Epoch 5/15\n",
      "363/363 [==============================] - 0s 589us/step - loss: 0.4079 - val_loss: 0.4158\n",
      "Epoch 6/15\n",
      "363/363 [==============================] - 0s 597us/step - loss: 0.3907 - val_loss: 0.4027\n",
      "Epoch 7/15\n",
      "363/363 [==============================] - 0s 628us/step - loss: 0.3820 - val_loss: 0.3835\n",
      "Epoch 8/15\n",
      "363/363 [==============================] - 0s 592us/step - loss: 0.3756 - val_loss: 0.3802\n",
      "Epoch 9/15\n",
      "363/363 [==============================] - 0s 617us/step - loss: 0.3747 - val_loss: 0.3769\n",
      "Epoch 10/15\n",
      "363/363 [==============================] - 0s 606us/step - loss: 0.3686 - val_loss: 0.3988\n",
      "Epoch 11/15\n",
      "363/363 [==============================] - 0s 614us/step - loss: 0.3658 - val_loss: 0.3769\n",
      "Epoch 12/15\n",
      "363/363 [==============================] - 0s 586us/step - loss: 0.3616 - val_loss: 0.3706\n",
      "Epoch 13/15\n",
      "363/363 [==============================] - 0s 592us/step - loss: 0.3634 - val_loss: 0.3711\n",
      "Epoch 14/15\n",
      "363/363 [==============================] - 0s 628us/step - loss: 0.3574 - val_loss: 0.3731\n",
      "Epoch 15/15\n",
      "363/363 [==============================] - 0s 626us/step - loss: 0.3548 - val_loss: 0.3676\n"
     ]
    }
   ],
   "source": [
    "history = model.fit(X_train, y_train, epochs=15, validation_data=(X_valid, y_valid))"
   ]
  },
  {
   "cell_type": "code",
   "execution_count": 111,
   "id": "5230448e-ef83-4091-9f7c-e48b3ec0d800",
   "metadata": {},
   "outputs": [
    {
     "name": "stdout",
     "output_type": "stream",
     "text": [
      "162/162 [==============================] - 0s 439us/step - loss: 0.3607\n"
     ]
    },
    {
     "data": {
      "text/plain": [
       "0.36069419980049133"
      ]
     },
     "execution_count": 111,
     "metadata": {},
     "output_type": "execute_result"
    }
   ],
   "source": [
    "model.evaluate(X_test, y_test)"
   ]
  },
  {
   "cell_type": "code",
   "execution_count": 112,
   "id": "4aaf5db1-3108-45b3-9488-e578ade76f97",
   "metadata": {},
   "outputs": [],
   "source": [
    "X_new = X_test[:3]"
   ]
  },
  {
   "cell_type": "code",
   "execution_count": 113,
   "id": "8906a639-e491-4b7b-a052-b2e1616f3b75",
   "metadata": {},
   "outputs": [
    {
     "data": {
      "text/plain": [
       "(array([[1.8898067],\n",
       "        [1.0986954],\n",
       "        [1.0035229]], dtype=float32),\n",
       " array([1.928, 0.929, 0.738]))"
      ]
     },
     "execution_count": 113,
     "metadata": {},
     "output_type": "execute_result"
    }
   ],
   "source": [
    "model.predict(X_new), y_test[:3]"
   ]
  },
  {
   "cell_type": "code",
   "execution_count": 121,
   "id": "bf2997c2-dbf3-4909-8be5-9f318c22fac6",
   "metadata": {},
   "outputs": [],
   "source": [
    "y_test = y_test.reshape(-1, 1) "
   ]
  },
  {
   "cell_type": "code",
   "execution_count": 122,
   "id": "ec0040c0-b5b3-4379-9359-aea763a3a885",
   "metadata": {},
   "outputs": [
    {
     "data": {
      "text/plain": [
       "((5160, 1), (5160, 1))"
      ]
     },
     "execution_count": 122,
     "metadata": {},
     "output_type": "execute_result"
    }
   ],
   "source": [
    "y_pred.shape, y_test.shape"
   ]
  },
  {
   "cell_type": "code",
   "execution_count": 123,
   "id": "ef4b2490-9d7d-4c2e-bda0-11aa1eb9f2f9",
   "metadata": {},
   "outputs": [],
   "source": [
    "y_pred = model.predict(X_test)"
   ]
  },
  {
   "cell_type": "code",
   "execution_count": 124,
   "id": "e92f41f7-83a6-4154-97a6-e146fe41f860",
   "metadata": {},
   "outputs": [],
   "source": [
    "abs_error = np.abs(y_pred - y_test) / y_test"
   ]
  },
  {
   "cell_type": "code",
   "execution_count": 127,
   "id": "20ab97c0-cded-42b2-83f0-677c47e1a70a",
   "metadata": {},
   "outputs": [
    {
     "data": {
      "text/plain": [
       "array([[0.01980978],\n",
       "       [0.18266458],\n",
       "       [0.35978709],\n",
       "       [0.09721315],\n",
       "       [0.35332399]])"
      ]
     },
     "execution_count": 127,
     "metadata": {},
     "output_type": "execute_result"
    }
   ],
   "source": [
    "abs_error[:5]"
   ]
  },
  {
   "cell_type": "code",
   "execution_count": 129,
   "id": "777f251c-3a8b-4f5b-8e63-ecf54bab44ed",
   "metadata": {},
   "outputs": [
    {
     "data": {
      "text/plain": [
       "(17.216746007920683, 24.840768853249642)"
      ]
     },
     "execution_count": 129,
     "metadata": {},
     "output_type": "execute_result"
    }
   ],
   "source": [
    "100*np.median(abs_error), 100*np.mean(abs_error)"
   ]
  },
  {
   "cell_type": "code",
   "execution_count": 134,
   "id": "157054bc-e63c-4680-b820-a038a71982f1",
   "metadata": {},
   "outputs": [],
   "source": [
    "def get_abs_error(y_pred, y_test):\n",
    "    abs_error = np.abs(y_pred - y_test) / y_test\n",
    "    return 100*np.median(abs_error), 100*np.mean(abs_error)"
   ]
  },
  {
   "cell_type": "markdown",
   "id": "5d5c603a-db9e-473f-b1b9-2921a5d8fc53",
   "metadata": {},
   "source": [
    "## Build Complex Models using the Functional API"
   ]
  },
  {
   "cell_type": "markdown",
   "id": "fe7942fe-992a-4b5e-b692-fb896ddc765c",
   "metadata": {},
   "source": [
    "We are going to build a Wide & Deep Neural Network. The idea is to have a layer before the output layer where we concatenate the inputs and the result of a deep neural network. This allows to have simple and deep patterns in the same neural network at the same time."
   ]
  },
  {
   "cell_type": "code",
   "execution_count": 136,
   "id": "e3ada9c9-8c8c-4dbd-a720-a243f2e4e189",
   "metadata": {},
   "outputs": [],
   "source": [
    "input_ = keras.layers.Input(shape=X_train.shape[1:])  # describes input (e.g. shape and dtype)\n",
    "hidden1 = keras.layers.Dense(30, activation=\"relu\")(input_)  # notice how we pass the input as an argument!\n",
    "hidden2 = keras.layers.Dense(10, activation=\"relu\")(hidden1)\n",
    "concat = keras.layers.Concatenate()([input_, hidden2])\n",
    "output = keras.layers.Dense(1)(concat)\n",
    "model = keras.Model(inputs=[input_], outputs=[output])"
   ]
  },
  {
   "cell_type": "code",
   "execution_count": 137,
   "id": "675d10e1-0f88-48e9-b96f-2dfb0844fb03",
   "metadata": {},
   "outputs": [
    {
     "name": "stdout",
     "output_type": "stream",
     "text": [
      "Model: \"model_1\"\n",
      "__________________________________________________________________________________________________\n",
      "Layer (type)                    Output Shape         Param #     Connected to                     \n",
      "==================================================================================================\n",
      "input_2 (InputLayer)            [(None, 8)]          0                                            \n",
      "__________________________________________________________________________________________________\n",
      "dense_16 (Dense)                (None, 30)           270         input_2[0][0]                    \n",
      "__________________________________________________________________________________________________\n",
      "dense_17 (Dense)                (None, 10)           310         dense_16[0][0]                   \n",
      "__________________________________________________________________________________________________\n",
      "concatenate_1 (Concatenate)     (None, 18)           0           input_2[0][0]                    \n",
      "                                                                 dense_17[0][0]                   \n",
      "__________________________________________________________________________________________________\n",
      "dense_18 (Dense)                (None, 1)            19          concatenate_1[0][0]              \n",
      "==================================================================================================\n",
      "Total params: 599\n",
      "Trainable params: 599\n",
      "Non-trainable params: 0\n",
      "__________________________________________________________________________________________________\n"
     ]
    }
   ],
   "source": [
    "model.summary()"
   ]
  },
  {
   "cell_type": "code",
   "execution_count": 138,
   "id": "18fe80e0-89a7-45d0-954a-d828d3f2360c",
   "metadata": {},
   "outputs": [
    {
     "name": "stdout",
     "output_type": "stream",
     "text": [
      "Epoch 1/20\n",
      "363/363 [==============================] - 0s 834us/step - loss: 1.0009 - val_loss: 7.7643\n",
      "Epoch 2/20\n",
      "363/363 [==============================] - 0s 682us/step - loss: 0.6227 - val_loss: 1.3954\n",
      "Epoch 3/20\n",
      "363/363 [==============================] - 0s 659us/step - loss: 0.5029 - val_loss: 1.0457\n",
      "Epoch 4/20\n",
      "363/363 [==============================] - 0s 687us/step - loss: 0.4532 - val_loss: 0.4398\n",
      "Epoch 5/20\n",
      "363/363 [==============================] - 0s 666us/step - loss: 0.4129 - val_loss: 0.4243\n",
      "Epoch 6/20\n",
      "363/363 [==============================] - 0s 658us/step - loss: 0.4043 - val_loss: 0.4427\n",
      "Epoch 7/20\n",
      "363/363 [==============================] - 0s 668us/step - loss: 0.4087 - val_loss: 0.3918\n",
      "Epoch 8/20\n",
      "363/363 [==============================] - 0s 670us/step - loss: 0.3857 - val_loss: 0.3999\n",
      "Epoch 9/20\n",
      "363/363 [==============================] - 0s 661us/step - loss: 0.3701 - val_loss: 0.3754\n",
      "Epoch 10/20\n",
      "363/363 [==============================] - 0s 672us/step - loss: 0.3638 - val_loss: 0.3701\n",
      "Epoch 11/20\n",
      "363/363 [==============================] - 0s 672us/step - loss: 0.3632 - val_loss: 0.3603\n",
      "Epoch 12/20\n",
      "363/363 [==============================] - 0s 669us/step - loss: 0.3564 - val_loss: 0.3605\n",
      "Epoch 13/20\n",
      "363/363 [==============================] - 0s 671us/step - loss: 0.3584 - val_loss: 0.3640\n",
      "Epoch 14/20\n",
      "363/363 [==============================] - 0s 663us/step - loss: 0.3498 - val_loss: 0.5543\n",
      "Epoch 15/20\n",
      "363/363 [==============================] - 0s 664us/step - loss: 0.3847 - val_loss: 0.3732\n",
      "Epoch 16/20\n",
      "363/363 [==============================] - 0s 682us/step - loss: 0.3514 - val_loss: 0.3527\n",
      "Epoch 17/20\n",
      "363/363 [==============================] - 0s 678us/step - loss: 0.3425 - val_loss: 0.3461\n",
      "Epoch 18/20\n",
      "363/363 [==============================] - 0s 655us/step - loss: 0.3411 - val_loss: 0.3523\n",
      "Epoch 19/20\n",
      "363/363 [==============================] - 0s 646us/step - loss: 0.3348 - val_loss: 0.3406\n",
      "Epoch 20/20\n",
      "363/363 [==============================] - 0s 656us/step - loss: 0.3344 - val_loss: 0.3429\n"
     ]
    },
    {
     "data": {
      "text/plain": [
       "<tensorflow.python.keras.callbacks.History at 0x18ab0ccd0>"
      ]
     },
     "execution_count": 138,
     "metadata": {},
     "output_type": "execute_result"
    }
   ],
   "source": [
    "model.compile(loss=\"mean_squared_error\", optimizer=\"sgd\")\n",
    "model.fit(X_train, y_train, epochs=20, validation_data=(X_valid, y_valid))"
   ]
  },
  {
   "cell_type": "code",
   "execution_count": 139,
   "id": "b236f509-adf8-49ee-8986-9c128189f57a",
   "metadata": {},
   "outputs": [
    {
     "name": "stdout",
     "output_type": "stream",
     "text": [
      "162/162 [==============================] - 0s 700us/step - loss: 0.3477\n"
     ]
    },
    {
     "data": {
      "text/plain": [
       "0.3476766347885132"
      ]
     },
     "execution_count": 139,
     "metadata": {},
     "output_type": "execute_result"
    }
   ],
   "source": [
    "model.evaluate(X_test, y_test)"
   ]
  },
  {
   "cell_type": "code",
   "execution_count": 140,
   "id": "ba170ff6-0bfe-4eff-9c29-3bce745e17f3",
   "metadata": {},
   "outputs": [
    {
     "data": {
      "text/plain": [
       "(16.6571113392156, 24.197662874212607)"
      ]
     },
     "execution_count": 140,
     "metadata": {},
     "output_type": "execute_result"
    }
   ],
   "source": [
    "get_abs_error(model.predict(X_test), y_test)"
   ]
  },
  {
   "cell_type": "markdown",
   "id": "23ff761f-389e-42ba-b56e-154fa8e54e59",
   "metadata": {},
   "source": [
    "The results stay more or less unchanged."
   ]
  },
  {
   "cell_type": "markdown",
   "id": "a457ab90-8542-4aa2-a8e3-9ffc5432fa19",
   "metadata": {},
   "source": [
    "## Using Tensorboard for Visualisation"
   ]
  },
  {
   "cell_type": "markdown",
   "id": "972723d2-fd03-486f-a30d-0eaa655ce570",
   "metadata": {},
   "source": [
    "First step is defining the root log directory:"
   ]
  },
  {
   "cell_type": "code",
   "execution_count": 143,
   "id": "20483737-1b93-4974-adcb-c4ca40e9410b",
   "metadata": {},
   "outputs": [],
   "source": [
    "import os\n",
    "import time\n",
    "root_logdir = os.path.join(os.curdir, \"my_logs\")\n",
    "\n",
    "def get_run_logdir():\n",
    "    run_id = time.strftime(\"run_%Y_%m_%d-%H_%M_%S\")\n",
    "    return os.path.join(root_logdir, run_id)"
   ]
  },
  {
   "cell_type": "code",
   "execution_count": 147,
   "id": "3aa2a06b-fd5c-4fd3-8c57-f8656c36b6fa",
   "metadata": {},
   "outputs": [
    {
     "data": {
      "text/plain": [
       "'./my_logs/run_2021_06_26-18_57_26'"
      ]
     },
     "execution_count": 147,
     "metadata": {},
     "output_type": "execute_result"
    }
   ],
   "source": [
    "run_logdir = get_run_logdir()\n",
    "run_logdir"
   ]
  },
  {
   "cell_type": "markdown",
   "id": "2094eb32-8b0e-4800-a321-a4f89a841610",
   "metadata": {},
   "source": [
    "Now we are ready to use the Tensorboard callback:"
   ]
  },
  {
   "cell_type": "code",
   "execution_count": 152,
   "id": "e4689f46-567a-46a0-9234-9a6bfcb2f22f",
   "metadata": {},
   "outputs": [
    {
     "name": "stdout",
     "output_type": "stream",
     "text": [
      "Epoch 1/30\n",
      "363/363 [==============================] - 1s 2ms/step - loss: 0.2782 - val_loss: 0.3053\n",
      "Epoch 2/30\n",
      "363/363 [==============================] - 0s 687us/step - loss: 0.2796 - val_loss: 0.3080\n",
      "Epoch 3/30\n",
      "363/363 [==============================] - 0s 674us/step - loss: 0.2789 - val_loss: 0.3075\n",
      "Epoch 4/30\n",
      "363/363 [==============================] - 0s 653us/step - loss: 0.2781 - val_loss: 0.4788\n",
      "Epoch 5/30\n",
      "363/363 [==============================] - 0s 676us/step - loss: 0.2804 - val_loss: 0.3507\n",
      "Epoch 6/30\n",
      "363/363 [==============================] - 0s 660us/step - loss: 0.2773 - val_loss: 0.3517\n",
      "Epoch 7/30\n",
      "363/363 [==============================] - 0s 670us/step - loss: 0.2915 - val_loss: 0.3120\n",
      "Epoch 8/30\n",
      "363/363 [==============================] - 0s 664us/step - loss: 0.2779 - val_loss: 0.3623\n",
      "Epoch 9/30\n",
      "363/363 [==============================] - 0s 670us/step - loss: 0.2843 - val_loss: 0.3059\n",
      "Epoch 10/30\n",
      "363/363 [==============================] - 0s 691us/step - loss: 0.2768 - val_loss: 0.3004\n",
      "Epoch 11/30\n",
      "363/363 [==============================] - 0s 666us/step - loss: 0.2779 - val_loss: 0.3082\n",
      "Epoch 12/30\n",
      "363/363 [==============================] - 0s 670us/step - loss: 0.2777 - val_loss: 0.3079\n",
      "Epoch 13/30\n",
      "363/363 [==============================] - 0s 683us/step - loss: 0.2789 - val_loss: 0.3077\n",
      "Epoch 14/30\n",
      "363/363 [==============================] - 0s 675us/step - loss: 0.2761 - val_loss: 0.3071\n",
      "Epoch 15/30\n",
      "363/363 [==============================] - 0s 678us/step - loss: 0.2764 - val_loss: 0.4346\n",
      "Epoch 16/30\n",
      "363/363 [==============================] - 0s 661us/step - loss: 0.2884 - val_loss: 0.3026\n",
      "Epoch 17/30\n",
      "363/363 [==============================] - 0s 664us/step - loss: 0.2765 - val_loss: 0.3247\n",
      "Epoch 18/30\n",
      "363/363 [==============================] - 0s 659us/step - loss: 0.2758 - val_loss: 0.3262\n",
      "Epoch 19/30\n",
      "363/363 [==============================] - 0s 702us/step - loss: 0.2764 - val_loss: 0.4210\n",
      "Epoch 20/30\n",
      "363/363 [==============================] - 0s 641us/step - loss: 0.2818 - val_loss: 0.3057\n",
      "Epoch 21/30\n",
      "363/363 [==============================] - 0s 673us/step - loss: 0.2750 - val_loss: 0.3134\n",
      "Epoch 22/30\n",
      "363/363 [==============================] - 0s 671us/step - loss: 0.2756 - val_loss: 0.3158\n",
      "Epoch 23/30\n",
      "363/363 [==============================] - 0s 665us/step - loss: 0.2741 - val_loss: 0.3038\n",
      "Epoch 24/30\n",
      "363/363 [==============================] - 0s 652us/step - loss: 0.2773 - val_loss: 0.3093\n",
      "Epoch 25/30\n",
      "363/363 [==============================] - 0s 667us/step - loss: 0.2739 - val_loss: 0.5785\n",
      "Epoch 26/30\n",
      "363/363 [==============================] - 0s 672us/step - loss: 0.3175 - val_loss: 0.3110\n",
      "Epoch 27/30\n",
      "363/363 [==============================] - 0s 657us/step - loss: 0.2752 - val_loss: 0.3019\n",
      "Epoch 28/30\n",
      "363/363 [==============================] - 0s 660us/step - loss: 0.2748 - val_loss: 0.3186\n",
      "Epoch 29/30\n",
      "363/363 [==============================] - 0s 683us/step - loss: 0.2752 - val_loss: 0.3065\n",
      "Epoch 30/30\n",
      "363/363 [==============================] - 0s 657us/step - loss: 0.2732 - val_loss: 0.4079\n"
     ]
    }
   ],
   "source": [
    "tensorboard_cb = keras.callbacks.TensorBoard(get_run_logdir())\n",
    "history = model.fit(X_train, y_train, epochs=30, validation_data=(X_valid, y_valid), callbacks=[tensorboard_cb])"
   ]
  },
  {
   "cell_type": "code",
   "execution_count": 153,
   "id": "db1729da-20d8-4b31-b290-11265c9cea69",
   "metadata": {},
   "outputs": [
    {
     "name": "stdout",
     "output_type": "stream",
     "text": [
      "Epoch 1/30\n"
     ]
    },
    {
     "name": "stderr",
     "output_type": "stream",
     "text": [
      "/Users/jmontero/.Envs/ml/lib/python3.8/site-packages/tensorflow/python/keras/optimizer_v2/optimizer_v2.py:374: UserWarning: The `lr` argument is deprecated, use `learning_rate` instead.\n",
      "  warnings.warn(\n"
     ]
    },
    {
     "name": "stdout",
     "output_type": "stream",
     "text": [
      "363/363 [==============================] - 1s 938us/step - loss: 0.2749 - val_loss: 0.3016\n",
      "Epoch 2/30\n",
      "363/363 [==============================] - 0s 694us/step - loss: 0.2736 - val_loss: 0.2984\n",
      "Epoch 3/30\n",
      "363/363 [==============================] - 0s 676us/step - loss: 0.2727 - val_loss: 0.3127\n",
      "Epoch 4/30\n",
      "363/363 [==============================] - 0s 670us/step - loss: 0.2730 - val_loss: 0.3013\n",
      "Epoch 5/30\n",
      "363/363 [==============================] - 0s 664us/step - loss: 0.2730 - val_loss: 0.3015\n",
      "Epoch 6/30\n",
      "363/363 [==============================] - 0s 682us/step - loss: 0.2755 - val_loss: 0.3481\n",
      "Epoch 7/30\n",
      "363/363 [==============================] - 0s 660us/step - loss: 0.2725 - val_loss: 0.3001\n",
      "Epoch 8/30\n",
      "363/363 [==============================] - 0s 667us/step - loss: 0.2722 - val_loss: 0.3048\n",
      "Epoch 9/30\n",
      "363/363 [==============================] - 0s 643us/step - loss: 0.2725 - val_loss: 0.3106\n",
      "Epoch 10/30\n",
      "363/363 [==============================] - 0s 662us/step - loss: 0.2715 - val_loss: 0.2963\n",
      "Epoch 11/30\n",
      "363/363 [==============================] - 0s 672us/step - loss: 0.2726 - val_loss: 0.3039\n",
      "Epoch 12/30\n",
      "363/363 [==============================] - 0s 664us/step - loss: 0.2715 - val_loss: 0.3139\n",
      "Epoch 13/30\n",
      "363/363 [==============================] - 0s 675us/step - loss: 0.2712 - val_loss: 0.3072\n",
      "Epoch 14/30\n",
      "363/363 [==============================] - 0s 648us/step - loss: 0.2734 - val_loss: 0.3031\n",
      "Epoch 15/30\n",
      "363/363 [==============================] - 0s 660us/step - loss: 0.2713 - val_loss: 0.2979\n",
      "Epoch 16/30\n",
      "363/363 [==============================] - 0s 675us/step - loss: 0.2712 - val_loss: 0.3704\n",
      "Epoch 17/30\n",
      "363/363 [==============================] - 0s 677us/step - loss: 0.2721 - val_loss: 0.3072\n",
      "Epoch 18/30\n",
      "363/363 [==============================] - 0s 658us/step - loss: 0.2702 - val_loss: 0.3036\n",
      "Epoch 19/30\n",
      "363/363 [==============================] - 0s 662us/step - loss: 0.2699 - val_loss: 0.3063\n",
      "Epoch 20/30\n",
      "363/363 [==============================] - 0s 646us/step - loss: 0.2750 - val_loss: 0.3375\n",
      "Epoch 21/30\n",
      "363/363 [==============================] - 0s 677us/step - loss: 0.2732 - val_loss: 0.3024\n",
      "Epoch 22/30\n",
      "363/363 [==============================] - 0s 650us/step - loss: 0.2719 - val_loss: 0.3175\n",
      "Epoch 23/30\n",
      "363/363 [==============================] - 0s 673us/step - loss: 0.2714 - val_loss: 0.3676\n",
      "Epoch 24/30\n",
      "363/363 [==============================] - 0s 657us/step - loss: 0.2905 - val_loss: 0.3219\n",
      "Epoch 25/30\n",
      "363/363 [==============================] - 0s 654us/step - loss: 0.2750 - val_loss: 0.3025\n",
      "Epoch 26/30\n",
      "363/363 [==============================] - 0s 659us/step - loss: 0.2709 - val_loss: 0.2928\n",
      "Epoch 27/30\n",
      "363/363 [==============================] - 0s 680us/step - loss: 0.2700 - val_loss: 0.2948\n",
      "Epoch 28/30\n",
      "363/363 [==============================] - 0s 691us/step - loss: 0.2691 - val_loss: 0.3102\n",
      "Epoch 29/30\n",
      "363/363 [==============================] - 0s 672us/step - loss: 0.2685 - val_loss: 0.3240\n",
      "Epoch 30/30\n",
      "363/363 [==============================] - 0s 668us/step - loss: 0.2716 - val_loss: 0.2990\n"
     ]
    }
   ],
   "source": [
    "tensorboard_cb = keras.callbacks.TensorBoard(get_run_logdir())\n",
    "model.compile(loss=\"mse\", optimizer=keras.optimizers.SGD(lr=10**(-2)))\n",
    "history = model.fit(X_train, y_train, epochs=30, validation_data=(X_valid, y_valid), callbacks=[tensorboard_cb])"
   ]
  },
  {
   "cell_type": "markdown",
   "id": "de05f8dc-51ce-4579-b4a1-c97b00dbf188",
   "metadata": {},
   "source": [
    "We can even run Tensorboard directly from this notebook!"
   ]
  },
  {
   "cell_type": "code",
   "execution_count": 154,
   "id": "99d7f9c2-77e7-460b-b6c1-9d0cb2972e8d",
   "metadata": {},
   "outputs": [
    {
     "name": "stdout",
     "output_type": "stream",
     "text": [
      "The tensorboard extension is already loaded. To reload it, use:\n",
      "  %reload_ext tensorboard\n"
     ]
    }
   ],
   "source": [
    "%load_ext tensorboard"
   ]
  },
  {
   "cell_type": "code",
   "execution_count": 155,
   "id": "bf9b9d1a-e2be-4ddc-bffb-03e8c584d342",
   "metadata": {},
   "outputs": [
    {
     "data": {
      "text/plain": [
       "Reusing TensorBoard on port 6006 (pid 8861), started 0:02:00 ago. (Use '!kill 8861' to kill it.)"
      ]
     },
     "metadata": {},
     "output_type": "display_data"
    },
    {
     "data": {
      "text/html": [
       "\n",
       "      <iframe id=\"tensorboard-frame-e8271e3fdb11536\" width=\"100%\" height=\"800\" frameborder=\"0\">\n",
       "      </iframe>\n",
       "      <script>\n",
       "        (function() {\n",
       "          const frame = document.getElementById(\"tensorboard-frame-e8271e3fdb11536\");\n",
       "          const url = new URL(\"/\", window.location);\n",
       "          const port = 6006;\n",
       "          if (port) {\n",
       "            url.port = port;\n",
       "          }\n",
       "          frame.src = url;\n",
       "        })();\n",
       "      </script>\n",
       "    "
      ],
      "text/plain": [
       "<IPython.core.display.HTML object>"
      ]
     },
     "metadata": {},
     "output_type": "display_data"
    }
   ],
   "source": [
    "%tensorboard --logdir='./my_logs' --port=6006"
   ]
  }
 ],
 "metadata": {
  "kernelspec": {
   "display_name": "Python 3",
   "language": "python",
   "name": "python3"
  },
  "language_info": {
   "codemirror_mode": {
    "name": "ipython",
    "version": 3
   },
   "file_extension": ".py",
   "mimetype": "text/x-python",
   "name": "python",
   "nbconvert_exporter": "python",
   "pygments_lexer": "ipython3",
   "version": "3.8.8"
  }
 },
 "nbformat": 4,
 "nbformat_minor": 5
}
