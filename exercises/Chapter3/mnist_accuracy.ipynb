{
 "cells": [
  {
   "cell_type": "markdown",
   "id": "0dc0292e-ace7-475d-98d2-1f633d5f7cb8",
   "metadata": {},
   "source": [
    "# Goal"
   ]
  },
  {
   "cell_type": "markdown",
   "id": "619bce5b-5a80-4ba9-84af-c7bce5e91b71",
   "metadata": {},
   "source": [
    "Obtain over 97 % accuracy on the test set of MNIST dataset."
   ]
  },
  {
   "cell_type": "markdown",
   "id": "f4a8cf51-5b51-4cbb-8630-e4f625295190",
   "metadata": {},
   "source": [
    "# Prepare dataset"
   ]
  },
  {
   "cell_type": "code",
   "execution_count": 3,
   "id": "983b27f8-f6a5-453a-8c7f-ed0f6659f32a",
   "metadata": {},
   "outputs": [],
   "source": [
    "from sklearn.datasets import fetch_openml\n",
    "mnist = fetch_openml('mnist_784', version=1)"
   ]
  },
  {
   "cell_type": "markdown",
   "id": "4702b2b2-85f4-4d2a-8bb2-5f676749a980",
   "metadata": {},
   "source": [
    "We know that data comes already shuffled, so let's just create a function to create the train, test split with different proportions without shuffling:"
   ]
  },
  {
   "cell_type": "code",
   "execution_count": 13,
   "id": "1e22f03d-b206-45e6-8c6a-7445052691e3",
   "metadata": {},
   "outputs": [],
   "source": [
    "def train_test_split(X, y, test_prop=.3):\n",
    "    train_size = round(len(X) * (1-test_prop))\n",
    "    train_slice = slice(train_size)\n",
    "    test_slice = slice(train_size, None)\n",
    "    return X[train_slice], X[test_slice], y[train_slice], y[test_slice]"
   ]
  },
  {
   "cell_type": "code",
   "execution_count": 14,
   "id": "23f33712-41ef-4764-8a63-2ba604a013ae",
   "metadata": {},
   "outputs": [
    {
     "data": {
      "text/plain": [
       "dict_keys(['data', 'target', 'frame', 'categories', 'feature_names', 'target_names', 'DESCR', 'details', 'url'])"
      ]
     },
     "execution_count": 14,
     "metadata": {},
     "output_type": "execute_result"
    }
   ],
   "source": [
    "mnist.keys()"
   ]
  },
  {
   "cell_type": "code",
   "execution_count": 15,
   "id": "ee1e03f2-198c-40fb-92bd-8cadcfe29557",
   "metadata": {},
   "outputs": [],
   "source": [
    "X = mnist[\"data\"].values\n",
    "y = mnist[\"target\"].values"
   ]
  },
  {
   "cell_type": "code",
   "execution_count": 16,
   "id": "88bf8308-e26c-426d-83c7-a24016a928c9",
   "metadata": {},
   "outputs": [],
   "source": [
    "X_train, X_test, y_train, y_test = train_test_split(X, y)"
   ]
  },
  {
   "cell_type": "code",
   "execution_count": 17,
   "id": "0c3e745e-a0c3-474d-9e00-8d03a786af72",
   "metadata": {},
   "outputs": [
    {
     "data": {
      "text/plain": [
       "(49000, 21000)"
      ]
     },
     "execution_count": 17,
     "metadata": {},
     "output_type": "execute_result"
    }
   ],
   "source": [
    "len(X_train), len(X_test)"
   ]
  },
  {
   "cell_type": "code",
   "execution_count": 57,
   "id": "5fbaa5f2-5a28-4d3f-b78d-5cd46709745c",
   "metadata": {},
   "outputs": [],
   "source": [
    "from sklearn.preprocessing import MinMaxScaler\n",
    "\n",
    "scaler = MinMaxScaler()\n",
    "X_train = scaler.fit_transform(X_train)\n",
    "X_test = scaler.transform(X_test)"
   ]
  },
  {
   "cell_type": "markdown",
   "id": "052d62e7-053a-4811-9733-d68dcf14e379",
   "metadata": {},
   "source": [
    "# Train classifiers"
   ]
  },
  {
   "cell_type": "markdown",
   "id": "463b64b5-70c6-4d0b-bbed-164ea04ff36b",
   "metadata": {},
   "source": [
    "### baseline result"
   ]
  },
  {
   "cell_type": "code",
   "execution_count": 58,
   "id": "f6c88085-31b4-4113-8bc5-e4cab1677578",
   "metadata": {},
   "outputs": [],
   "source": [
    "from sklearn.neighbors import KNeighborsClassifier"
   ]
  },
  {
   "cell_type": "code",
   "execution_count": 59,
   "id": "b95141c5-6d64-49c6-8164-260434936002",
   "metadata": {},
   "outputs": [
    {
     "data": {
      "text/plain": [
       "KNeighborsClassifier()"
      ]
     },
     "execution_count": 59,
     "metadata": {},
     "output_type": "execute_result"
    }
   ],
   "source": [
    "kn_clf = KNeighborsClassifier()\n",
    "kn_clf.fit(X_train, y_train)"
   ]
  },
  {
   "cell_type": "code",
   "execution_count": 60,
   "id": "5c461f8b-347e-4e28-aa7d-dc17472a1af7",
   "metadata": {},
   "outputs": [],
   "source": [
    "from sklearn.metrics import accuracy_score"
   ]
  },
  {
   "cell_type": "code",
   "execution_count": 61,
   "id": "38ce4a5f-917e-4d2d-9cff-ab0e9d97d88d",
   "metadata": {},
   "outputs": [],
   "source": [
    "y_pred = kn_clf.predict(X_test)"
   ]
  },
  {
   "cell_type": "code",
   "execution_count": 62,
   "id": "9133c043-ec71-46d5-8ce9-6206a8608497",
   "metadata": {},
   "outputs": [
    {
     "data": {
      "text/plain": [
       "0.9680952380952381"
      ]
     },
     "execution_count": 62,
     "metadata": {},
     "output_type": "execute_result"
    }
   ],
   "source": [
    "accuracy_score(y_test, y_pred)"
   ]
  },
  {
   "cell_type": "markdown",
   "id": "e52736fe-7821-4655-a1ce-46d3d0832474",
   "metadata": {},
   "source": [
    "Almost there!"
   ]
  },
  {
   "cell_type": "markdown",
   "id": "818aefdb-9d47-42f5-a0c9-8fa7913b3f40",
   "metadata": {},
   "source": [
    "### grid search"
   ]
  },
  {
   "cell_type": "code",
   "execution_count": 63,
   "id": "0b3b3549-7fb4-4fc0-9b6d-b0fa82cf9724",
   "metadata": {},
   "outputs": [],
   "source": [
    "from sklearn.model_selection import GridSearchCV"
   ]
  },
  {
   "cell_type": "code",
   "execution_count": 64,
   "id": "4114c0f8-a00d-4062-bf86-7a3dd2846c4a",
   "metadata": {},
   "outputs": [
    {
     "data": {
      "text/plain": [
       "dict_keys(['algorithm', 'leaf_size', 'metric', 'metric_params', 'n_jobs', 'n_neighbors', 'p', 'weights'])"
      ]
     },
     "execution_count": 64,
     "metadata": {},
     "output_type": "execute_result"
    }
   ],
   "source": [
    "kn_clf = KNeighborsClassifier()\n",
    "kn_clf.get_params().keys()"
   ]
  },
  {
   "cell_type": "code",
   "execution_count": 67,
   "id": "686796e4-c15e-4d40-8a0e-6db75145f8f8",
   "metadata": {},
   "outputs": [],
   "source": [
    "cv_results_ = GridSearchCV(KNeighborsClassifier(), \n",
    "                           param_grid={\"n_neighbors\": [3, 5, 10, 20], \"weights\": [\"uniform\", \"distance\"], \"p\": [1, 2]}, \n",
    "                           scoring=\"accuracy\", cv=3, n_jobs=3)"
   ]
  },
  {
   "cell_type": "code",
   "execution_count": 68,
   "id": "09504146-4685-4790-a440-d6a70936f560",
   "metadata": {},
   "outputs": [
    {
     "data": {
      "text/plain": [
       "GridSearchCV(cv=3, estimator=KNeighborsClassifier(), n_jobs=3,\n",
       "             param_grid={'n_neighbors': [3, 5, 10, 20], 'p': [1, 2],\n",
       "                         'weights': ['uniform', 'distance']},\n",
       "             scoring='accuracy')"
      ]
     },
     "execution_count": 68,
     "metadata": {},
     "output_type": "execute_result"
    }
   ],
   "source": [
    "cv_results_.fit(X_train, y_train)"
   ]
  },
  {
   "cell_type": "code",
   "execution_count": 69,
   "id": "d7ddd144-ee62-442c-bdb9-7d3ae1d7892f",
   "metadata": {},
   "outputs": [
    {
     "data": {
      "text/plain": [
       "KNeighborsClassifier(n_neighbors=3, weights='distance')"
      ]
     },
     "execution_count": 69,
     "metadata": {},
     "output_type": "execute_result"
    }
   ],
   "source": [
    "cv_results_.best_estimator_"
   ]
  },
  {
   "cell_type": "code",
   "execution_count": 70,
   "id": "fdab9bca-c622-4c2f-8058-68e8953c9b29",
   "metadata": {},
   "outputs": [],
   "source": [
    "best_kn_clf = cv_results_.best_estimator_"
   ]
  },
  {
   "cell_type": "code",
   "execution_count": 71,
   "id": "a662fed2-83bb-4327-825b-ecefc0e6274c",
   "metadata": {},
   "outputs": [
    {
     "data": {
      "text/plain": [
       "0.9700952380952381"
      ]
     },
     "execution_count": 71,
     "metadata": {},
     "output_type": "execute_result"
    }
   ],
   "source": [
    "accuracy_score(y_test, best_kn_clf.predict(X_test))"
   ]
  }
 ],
 "metadata": {
  "kernelspec": {
   "display_name": "Python 3",
   "language": "python",
   "name": "python3"
  },
  "language_info": {
   "codemirror_mode": {
    "name": "ipython",
    "version": 3
   },
   "file_extension": ".py",
   "mimetype": "text/x-python",
   "name": "python",
   "nbconvert_exporter": "python",
   "pygments_lexer": "ipython3",
   "version": "3.8.8"
  }
 },
 "nbformat": 4,
 "nbformat_minor": 5
}
