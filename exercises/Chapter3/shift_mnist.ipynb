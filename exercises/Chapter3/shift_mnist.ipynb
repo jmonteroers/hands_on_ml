{
 "cells": [
  {
   "cell_type": "markdown",
   "id": "1b991f88-9d14-467a-bbf8-f5dd4b94f0a8",
   "metadata": {},
   "source": [
    "# Goal"
   ]
  },
  {
   "cell_type": "markdown",
   "id": "9184e884-53c0-4f17-a4ab-1641459d1900",
   "metadata": {},
   "source": [
    "Shift  each MNIST image in any direction (left, right, up, down) by one pixel, and add them to the training set. Finally, train your best model on this expanded training set and measure its accuracy on the test set. You should observe an increase in performance!"
   ]
  },
  {
   "cell_type": "markdown",
   "id": "65f330c0-ca03-40c9-9cf7-09e5f2e07e11",
   "metadata": {},
   "source": [
    "This technique of artificially growing your training dataset is called `data augmentation` or `training set expansion`."
   ]
  },
  {
   "cell_type": "markdown",
   "id": "422027ae-3dc5-460d-9acd-3d2f2497a40c",
   "metadata": {},
   "source": [
    "Hint: to shift the images, you can use the `shift` function from the `scipy.ndimage.interpolation` module.\n",
    "\n",
    "For example, `shift(image, [2, 1], cval=0)` shifts the image two pixels down and one pixel to the right."
   ]
  },
  {
   "cell_type": "markdown",
   "id": "0118ae1b-a0bf-4c3f-a061-9b58a6ef007f",
   "metadata": {},
   "source": [
    "# Load the data"
   ]
  },
  {
   "cell_type": "code",
   "execution_count": 2,
   "id": "5f625350-5a4b-4a86-9127-f53014a761de",
   "metadata": {},
   "outputs": [],
   "source": [
    "from sklearn.datasets import fetch_openml\n",
    "mnist = fetch_openml('mnist_784', version=1)"
   ]
  },
  {
   "cell_type": "code",
   "execution_count": 3,
   "id": "6c163eb4-5ed6-486d-a157-035eb87a4a5b",
   "metadata": {},
   "outputs": [],
   "source": [
    "def train_test_split(X, y, test_prop=.3):\n",
    "    train_size = round(len(X) * (1-test_prop))\n",
    "    train_slice = slice(train_size)\n",
    "    test_slice = slice(train_size, None)\n",
    "    return X[train_slice], X[test_slice], y[train_slice], y[test_slice]"
   ]
  },
  {
   "cell_type": "code",
   "execution_count": 39,
   "id": "e194344f-20ef-4249-a398-fbc9ebf6dbfe",
   "metadata": {},
   "outputs": [],
   "source": [
    "X  = mnist[\"data\"].values\n",
    "y = mnist[\"target\"].values\n",
    "X_train, X_test, y_train, y_test = train_test_split(X, y)"
   ]
  },
  {
   "cell_type": "markdown",
   "id": "a381a038-3907-4f01-8901-652f1135369b",
   "metadata": {},
   "source": [
    "# Play with the shift function"
   ]
  },
  {
   "cell_type": "code",
   "execution_count": 5,
   "id": "a7ad037b-9149-447f-984b-d41ea7c1e6fd",
   "metadata": {},
   "outputs": [],
   "source": [
    "from scipy.ndimage import shift"
   ]
  },
  {
   "cell_type": "code",
   "execution_count": 7,
   "id": "aa84c7df-9681-4220-9db4-7053e1c11e05",
   "metadata": {},
   "outputs": [],
   "source": [
    "sample_digit = X_train[0]\n",
    "sample_digit_2d = sample_digit.reshape(28, 28)"
   ]
  },
  {
   "cell_type": "code",
   "execution_count": 18,
   "id": "c4d0163d-2228-4e0d-85ca-2b5a3f4ceab2",
   "metadata": {},
   "outputs": [
    {
     "data": {
      "text/plain": [
       "<matplotlib.image.AxesImage at 0x167b86310>"
      ]
     },
     "execution_count": 18,
     "metadata": {},
     "output_type": "execute_result"
    },
    {
     "data": {
      "image/png": "[encoded data removed]",
      "text/plain": [
       "<Figure size 432x288 with 1 Axes>"
      ]
     },
     "metadata": {
      "needs_background": "light"
     },
     "output_type": "display_data"
    }
   ],
   "source": [
    "import matplotlib.pyplot as plt\n",
    "plt.imshow(sample_digit_2d, cmap=\"binary\")"
   ]
  },
  {
   "cell_type": "markdown",
   "id": "1c2acb1e-8354-41bc-bf18-e75548247a59",
   "metadata": {},
   "source": [
    "Let's shift this image 5 pixels up and 10 to the right,"
   ]
  },
  {
   "cell_type": "code",
   "execution_count": 21,
   "id": "ba39cf7f-aee1-4762-bd32-fe1c36f7b851",
   "metadata": {},
   "outputs": [],
   "source": [
    "shifted_sample_digit_2d = shift(sample_digit_2d, shift=[-5, 10])"
   ]
  },
  {
   "cell_type": "code",
   "execution_count": 22,
   "id": "af004a56-8f2f-4a7b-90c8-3656f6729c06",
   "metadata": {},
   "outputs": [
    {
     "data": {
      "text/plain": [
       "<matplotlib.image.AxesImage at 0x168085f40>"
      ]
     },
     "execution_count": 22,
     "metadata": {},
     "output_type": "execute_result"
    },
    {
     "data": {
      "image/png": "[encoded data removed]",
      "text/plain": [
       "<Figure size 432x288 with 1 Axes>"
      ]
     },
     "metadata": {
      "needs_background": "light"
     },
     "output_type": "display_data"
    }
   ],
   "source": [
    "plt.imshow(shifted_sample_digit_2d, cmap=\"binary\")"
   ]
  },
  {
   "cell_type": "code",
   "execution_count": 57,
   "id": "1fa36af4-e209-4aeb-bfab-677d85871cc2",
   "metadata": {},
   "outputs": [
    {
     "data": {
      "text/plain": [
       "(49000, 784)"
      ]
     },
     "execution_count": 57,
     "metadata": {},
     "output_type": "execute_result"
    }
   ],
   "source": [
    "X_train.shape"
   ]
  },
  {
   "cell_type": "markdown",
   "id": "6ecfeaa5-64c1-4df0-b7c6-7c94b171bee1",
   "metadata": {},
   "source": [
    "# Augment the data"
   ]
  },
  {
   "cell_type": "code",
   "execution_count": 50,
   "id": "5273ea3f-a851-4cf6-9fbd-1be25a01a489",
   "metadata": {},
   "outputs": [],
   "source": [
    "import numpy as np\n",
    "from typing import Generic, TypeVar, Tuple\n",
    "\n",
    "Shape = TypeVar(\"Shape\")\n",
    "DType = TypeVar(\"DType\")\n",
    "\n",
    "class Array(np.ndarray, Generic[Shape, DType]):\n",
    "    ..."
   ]
  },
  {
   "cell_type": "code",
   "execution_count": 62,
   "id": "776fcd07-8931-40ad-9323-f7e1645c21ad",
   "metadata": {},
   "outputs": [],
   "source": [
    "def shift_image(img: Array['N,1', float], shift_px: Tuple[int, int]) -> Array['N,1', float]:\n",
    "    img = img.copy()\n",
    "    n_pixels = len(img)\n",
    "    side_len = int(np.sqrt(n_pixels))\n",
    "    img_2d = img.reshape(side_len, side_len)\n",
    "    shifted_img_2d = shift(img_2d, shift_px)\n",
    "    return shifted_img_2d.reshape([n_pixels])\n",
    "    "
   ]
  },
  {
   "cell_type": "code",
   "execution_count": 65,
   "id": "c8e76cba-979a-4ba4-9e14-cd663e9883a6",
   "metadata": {},
   "outputs": [],
   "source": [
    "def augment_data(X_train, y_train, pixel_shifts=None):\n",
    "    new_X = X_train.copy()\n",
    "    new_y = y_train.copy()\n",
    "    # 1 right, left, down, up\n",
    "    pixel_shifts = pixel_shifts or ((0, 1), (0, -1), (1, 0), (0, 1))\n",
    "    for pixel_shift in pixel_shifts:\n",
    "        shifted_X = np.apply_along_axis(shift_image, 1, X_train, pixel_shift)\n",
    "        new_X = np.concatenate([new_X, shifted_X])\n",
    "        new_y = np.concatenate([new_y, y_train])\n",
    "    return new_X, new_y"
   ]
  },
  {
   "cell_type": "code",
   "execution_count": 66,
   "id": "85af5598-d459-4669-a453-721cb37a21e4",
   "metadata": {},
   "outputs": [],
   "source": [
    "aug_X_train, aug_y_train = augment_data(X_train, y_train)"
   ]
  },
  {
   "cell_type": "code",
   "execution_count": 67,
   "id": "1fcfe0b7-28ab-47a7-8dea-a259b9585b4e",
   "metadata": {},
   "outputs": [
    {
     "data": {
      "text/plain": [
       "(49000, 245000)"
      ]
     },
     "execution_count": 67,
     "metadata": {},
     "output_type": "execute_result"
    }
   ],
   "source": [
    "len(X_train), len(aug_X_train)"
   ]
  },
  {
   "cell_type": "markdown",
   "id": "22104e25-49d0-4abe-b948-0248bc4f56c4",
   "metadata": {},
   "source": [
    "# Train and evaluate the model"
   ]
  },
  {
   "cell_type": "code",
   "execution_count": 68,
   "id": "38f2a4c6-cdb3-47da-88a1-709080085c6a",
   "metadata": {},
   "outputs": [],
   "source": [
    "from sklearn.neighbors import KNeighborsClassifier"
   ]
  },
  {
   "cell_type": "code",
   "execution_count": 69,
   "id": "5fc36ebb-d1f8-46c8-828e-36fab5fb1b74",
   "metadata": {},
   "outputs": [],
   "source": [
    "kn = KNeighborsClassifier()"
   ]
  },
  {
   "cell_type": "code",
   "execution_count": 70,
   "id": "353ceef3-1ffe-4b20-b1cf-3e8a15debca4",
   "metadata": {},
   "outputs": [
    {
     "data": {
      "text/plain": [
       "KNeighborsClassifier()"
      ]
     },
     "execution_count": 70,
     "metadata": {},
     "output_type": "execute_result"
    }
   ],
   "source": [
    "kn.fit(aug_X_train, aug_y_train)"
   ]
  },
  {
   "cell_type": "code",
   "execution_count": 71,
   "id": "91b69b9e-7fcf-46f1-b0fe-a1af87f25fb9",
   "metadata": {},
   "outputs": [],
   "source": [
    "y_pred = kn.predict(X_test)"
   ]
  },
  {
   "cell_type": "code",
   "execution_count": 72,
   "id": "f9ccc905-8cf8-4da8-82ea-cdee3e6be4bf",
   "metadata": {},
   "outputs": [],
   "source": [
    "from sklearn.metrics import accuracy_score"
   ]
  },
  {
   "cell_type": "code",
   "execution_count": 73,
   "id": "ac2ba82d-9948-4134-a1d5-d72f13327200",
   "metadata": {},
   "outputs": [
    {
     "data": {
      "text/plain": [
       "0.9722857142857143"
      ]
     },
     "execution_count": 73,
     "metadata": {},
     "output_type": "execute_result"
    }
   ],
   "source": [
    "accuracy_score(y_test, y_pred)"
   ]
  },
  {
   "cell_type": "markdown",
   "id": "25803c80-a40e-4b90-9418-63ccd495b688",
   "metadata": {},
   "source": [
    "Already over 97 %! :)"
   ]
  }
 ],
 "metadata": {
  "kernelspec": {
   "display_name": "Python 3",
   "language": "python",
   "name": "python3"
  },
  "language_info": {
   "codemirror_mode": {
    "name": "ipython",
    "version": 3
   },
   "file_extension": ".py",
   "mimetype": "text/x-python",
   "name": "python",
   "nbconvert_exporter": "python",
   "pygments_lexer": "ipython3",
   "version": "3.8.8"
  }
 },
 "nbformat": 4,
 "nbformat_minor": 5
}
