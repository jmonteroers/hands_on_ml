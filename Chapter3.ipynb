{
 "cells": [
  {
   "cell_type": "markdown",
   "id": "12e4c3ef-af21-485d-b276-9e79cd368549",
   "metadata": {},
   "source": [
    "# Chapter 3. Classification"
   ]
  },
  {
   "cell_type": "markdown",
   "id": "af3505f8-2f77-47c4-918e-b98a871b56aa",
   "metadata": {},
   "source": [
    "## Definitions"
   ]
  },
  {
   "cell_type": "markdown",
   "id": "a9559e3d-f922-4d49-a5e8-f0c22ebb8823",
   "metadata": {},
   "source": [
    "- skewed dataset: in a classification problem, when some classes are much more frequent than others\n",
    "\n",
    "- clean prediction: prediction for which the estimator was not directly trained on."
   ]
  },
  {
   "cell_type": "markdown",
   "id": "375e6d8e-bb92-44f6-a51c-63b3e57d2ddb",
   "metadata": {},
   "source": [
    "## MNIST"
   ]
  },
  {
   "cell_type": "markdown",
   "id": "b59a8fa2-bbef-4168-b97f-9d9556b0404d",
   "metadata": {},
   "source": [
    "Set of 70000 small images of digits handwritten by high school students and employees of the US census bureau. Each image is labeled with the digit it represents."
   ]
  },
  {
   "cell_type": "code",
   "execution_count": 1,
   "id": "011ea65b-bc13-4de3-8c08-eb3ae073c0a7",
   "metadata": {},
   "outputs": [
    {
     "data": {
      "text/plain": [
       "dict_keys(['data', 'target', 'frame', 'categories', 'feature_names', 'target_names', 'DESCR', 'details', 'url'])"
      ]
     },
     "execution_count": 1,
     "metadata": {},
     "output_type": "execute_result"
    }
   ],
   "source": [
    "# import MNIST from sklearn\n",
    "from sklearn.datasets import fetch_openml\n",
    "mnist = fetch_openml('mnist_784', version=1)\n",
    "mnist.keys()"
   ]
  },
  {
   "cell_type": "markdown",
   "id": "43ae4909-5055-47e9-afd6-adbdfcc162e7",
   "metadata": {},
   "source": [
    "Datasets loaded by sklearn usually have a dict-like structure with the following fields at least:\n",
    "- DESCR key describes the dataset\n",
    "- data, 2-D array of features\n",
    "- target, array with the labels"
   ]
  },
  {
   "cell_type": "code",
   "execution_count": 2,
   "id": "c729a590-20e8-4571-8e8c-87f42086f1aa",
   "metadata": {},
   "outputs": [
    {
     "data": {
      "text/plain": [
       "pandas.core.series.Series"
      ]
     },
     "execution_count": 2,
     "metadata": {},
     "output_type": "execute_result"
    }
   ],
   "source": [
    "type(mnist[\"target\"])  # it's a pandas Series!"
   ]
  },
  {
   "cell_type": "code",
   "execution_count": 3,
   "id": "3cb0d81a-4451-4ce8-9fb8-082094d101f7",
   "metadata": {},
   "outputs": [
    {
     "data": {
      "text/plain": [
       "pandas.core.frame.DataFrame"
      ]
     },
     "execution_count": 3,
     "metadata": {},
     "output_type": "execute_result"
    }
   ],
   "source": [
    "type(mnist[\"data\"])  # it's a pandas Df!"
   ]
  },
  {
   "cell_type": "code",
   "execution_count": 5,
   "id": "4e080b09-3197-4858-b334-c31b8d1f9ac3",
   "metadata": {},
   "outputs": [
    {
     "data": {
      "text/plain": [
       "\"**Author**: Yann LeCun, Corinna Cortes, Christopher J.C. Burges  \\n**Source**: [MNIST Website](http://yann.lecun.com/exdb/mnist/) - Date unknown  \\n**Please cite**:  \\n\\nThe MNIST database of handwritten digits with 784 features, raw data available at: http://yann.lecun.com/exdb/mnist/. It can be split in a training set of the first 60,000 examples, and a test set of 10,000 examples  \\n\\nIt is a subset of a larger set available from NIST. The digits have been size-normalized and centered in a fixed-size image. It is a good database for people who want to try learning techniques and pattern recognition methods on real-world data while spending minimal efforts on preprocessing and formatting. The original black and white (bilevel) images from NIST were size normalized to fit in a 20x20 pixel box while preserving their aspect ratio. The resulting images contain grey levels as a result of the anti-aliasing technique used by the normalization algorithm. the images were centered in a 28x28 image by computing the center of mass of the pixels, and translating the image so as to position this point at the center of the 28x28 field.  \\n\\nWith some classification methods (particularly template-based methods, such as SVM and K-nearest neighbors), the error rate improves when the digits are centered by bounding box rather than center of mass. If you do this kind of pre-processing, you should report it in your publications. The MNIST database was constructed from NIST's NIST originally designated SD-3 as their training set and SD-1 as their test set. However, SD-3 is much cleaner and easier to recognize than SD-1. The reason for this can be found on the fact that SD-3 was collected among Census Bureau employees, while SD-1 was collected among high-school students. Drawing sensible conclusions from learning experiments requires that the result be independent of the choice of training set and test among the complete set of samples. Therefore it was necessary to build a new database by mixing NIST's datasets.  \\n\\nThe MNIST training set is composed of 30,000 patterns from SD-3 and 30,000 patterns from SD-1. Our test set was composed of 5,000 patterns from SD-3 and 5,000 patterns from SD-1. The 60,000 pattern training set contained examples from approximately 250 writers. We made sure that the sets of writers of the training set and test set were disjoint. SD-1 contains 58,527 digit images written by 500 different writers. In contrast to SD-3, where blocks of data from each writer appeared in sequence, the data in SD-1 is scrambled. Writer identities for SD-1 is available and we used this information to unscramble the writers. We then split SD-1 in two: characters written by the first 250 writers went into our new training set. The remaining 250 writers were placed in our test set. Thus we had two sets with nearly 30,000 examples each. The new training set was completed with enough examples from SD-3, starting at pattern # 0, to make a full set of 60,000 training patterns. Similarly, the new test set was completed with SD-3 examples starting at pattern # 35,000 to make a full set with 60,000 test patterns. Only a subset of 10,000 test images (5,000 from SD-1 and 5,000 from SD-3) is available on this site. The full 60,000 sample training set is available.\\n\\nDownloaded from openml.org.\""
      ]
     },
     "execution_count": 5,
     "metadata": {},
     "output_type": "execute_result"
    }
   ],
   "source": [
    "mnist[\"DESCR\"]"
   ]
  },
  {
   "cell_type": "markdown",
   "id": "e5d06b24-8ba1-4553-ab57-8e3775597e6c",
   "metadata": {},
   "source": [
    "Since the book assumes that X and y are numpy arrays, let's cat them into that type (in current version they are Pandas objects)"
   ]
  },
  {
   "cell_type": "code",
   "execution_count": 10,
   "id": "8a715d05-2e9c-4e6e-9c5f-4a6dd756d313",
   "metadata": {},
   "outputs": [
    {
     "data": {
      "text/plain": [
       "((70000, 784), (70000,))"
      ]
     },
     "execution_count": 10,
     "metadata": {},
     "output_type": "execute_result"
    }
   ],
   "source": [
    "X = mnist[\"data\"].values\n",
    "y = mnist[\"target\"].values\n",
    "X.shape, y.shape"
   ]
  },
  {
   "cell_type": "markdown",
   "id": "cc246277-8cc5-451d-993f-741cf6c26de9",
   "metadata": {},
   "source": [
    "We see we have indeed 70000 observations. In terms of features, there are 784, each of them representing a pixel in a 28 x 28 image. The original data has columns, so we can have a check:"
   ]
  },
  {
   "cell_type": "code",
   "execution_count": 15,
   "id": "d00406a8-1836-44f2-99a1-e5a8e5f1e2ce",
   "metadata": {},
   "outputs": [
    {
     "data": {
      "text/plain": [
       "Index(['pixel1', 'pixel2', 'pixel3', 'pixel4', 'pixel5', 'pixel6', 'pixel7',\n",
       "       'pixel8', 'pixel9', 'pixel10',\n",
       "       ...\n",
       "       'pixel775', 'pixel776', 'pixel777', 'pixel778', 'pixel779', 'pixel780',\n",
       "       'pixel781', 'pixel782', 'pixel783', 'pixel784'],\n",
       "      dtype='object', length=784)"
      ]
     },
     "execution_count": 15,
     "metadata": {},
     "output_type": "execute_result"
    }
   ],
   "source": [
    "mnist[\"data\"].columns"
   ]
  },
  {
   "cell_type": "markdown",
   "id": "07c0837a-69f5-4c1d-8917-e81a07901790",
   "metadata": {},
   "source": [
    "Let's explore the first values of X and y:"
   ]
  },
  {
   "cell_type": "code",
   "execution_count": 26,
   "id": "19a7a300-4496-4ec1-b873-78c059d7c592",
   "metadata": {},
   "outputs": [
    {
     "data": {
      "text/plain": [
       "(array([[0., 0., 0., ..., 0., 0., 0.],\n",
       "        [0., 0., 0., ..., 0., 0., 0.],\n",
       "        [0., 0., 0., ..., 0., 0., 0.],\n",
       "        [0., 0., 0., ..., 0., 0., 0.],\n",
       "        [0., 0., 0., ..., 0., 0., 0.]]),\n",
       " ['5', '0', '4', '1', '9']\n",
       " Categories (10, object): ['0', '1', '2', '3', ..., '6', '7', '8', '9'])"
      ]
     },
     "execution_count": 26,
     "metadata": {},
     "output_type": "execute_result"
    }
   ],
   "source": [
    "X[:5], y[:5]"
   ]
  },
  {
   "cell_type": "markdown",
   "id": "b051d6e3-1c22-48a8-9f44-870d64dca98e",
   "metadata": {},
   "source": [
    "we notice that y is a categorical array. For our purposes, we need to conver it into numeric values:"
   ]
  },
  {
   "cell_type": "code",
   "execution_count": 27,
   "id": "e03ff823-8408-4b28-a9ff-f0027e7a2959",
   "metadata": {},
   "outputs": [],
   "source": [
    "import numpy as np\n",
    "y = y.astype(np.uint8)"
   ]
  },
  {
   "cell_type": "code",
   "execution_count": 13,
   "id": "375fcce5-fd7d-4ff2-b0ad-1b3b0c2ede42",
   "metadata": {},
   "outputs": [
    {
     "data": {
      "text/plain": [
       "(-0.5, 27.5, 27.5, -0.5)"
      ]
     },
     "execution_count": 13,
     "metadata": {},
     "output_type": "execute_result"
    },
    {
     "data": {
      "image/png": "[encoded data removed]",
      "text/plain": [
       "<Figure size 432x288 with 1 Axes>"
      ]
     },
     "metadata": {
      "needs_background": "light"
     },
     "output_type": "display_data"
    }
   ],
   "source": [
    "import matplotlib as mpl\n",
    "import matplotlib.pyplot as plt\n",
    "\n",
    "some_digit = X[0]\n",
    "some_digit_image = some_digit.reshape(28, 28)\n",
    "\n",
    "plt.imshow(some_digit_image, cmap=\"binary\")\n",
    "plt.axis(\"off\")"
   ]
  },
  {
   "cell_type": "markdown",
   "id": "03d226ea-3242-4edd-ae43-7fadc9c2be02",
   "metadata": {},
   "source": [
    "Let's put this into a function:"
   ]
  },
  {
   "cell_type": "code",
   "execution_count": 19,
   "id": "4eb99605-f176-4ff3-9f23-ff361b07319a",
   "metadata": {},
   "outputs": [
    {
     "name": "stdout",
     "output_type": "stream",
     "text": [
      "This number's label is 3\n"
     ]
    },
    {
     "data": {
      "image/png": "[encoded data removed]",
      "text/plain": [
       "<Figure size 432x288 with 1 Axes>"
      ]
     },
     "metadata": {
      "needs_background": "light"
     },
     "output_type": "display_data"
    }
   ],
   "source": [
    "def visualise_digit_number(n):\n",
    "    some_digit = X[n]\n",
    "    some_digit_image = some_digit.reshape(28, 28)\n",
    "\n",
    "    plt.imshow(some_digit_image, cmap=\"binary\")\n",
    "    plt.axis(\"off\")\n",
    "    print(\"This number's label is\", y[n])\n",
    "\n",
    "visualise_digit_number(10)"
   ]
  },
  {
   "cell_type": "markdown",
   "id": "cd7a024b-d35b-413c-83ea-009b143c189d",
   "metadata": {},
   "source": [
    "The MNIST dataset is already split into a training (the first 60000 observations) and test dataset (the rest). The training set is already shuffled, so that we have all digits in every fold."
   ]
  },
  {
   "cell_type": "code",
   "execution_count": 20,
   "id": "0ee84f3c-3a31-40d5-88d6-f5944785a3aa",
   "metadata": {},
   "outputs": [],
   "source": [
    "TRAINING = slice(60000)\n",
    "TEST = slice(60000, None)"
   ]
  },
  {
   "cell_type": "code",
   "execution_count": 28,
   "id": "3e1917db-6efc-412b-b541-cd6f01000b71",
   "metadata": {},
   "outputs": [],
   "source": [
    "X_train, X_test, y_train, y_test = X[TRAINING], X[TEST], y[TRAINING], y[TEST]"
   ]
  },
  {
   "cell_type": "code",
   "execution_count": 29,
   "id": "e82c45d2-7ae0-498a-ab14-e1f3bf87c882",
   "metadata": {},
   "outputs": [
    {
     "data": {
      "text/plain": [
       "((60000, 784), (10000, 784))"
      ]
     },
     "execution_count": 29,
     "metadata": {},
     "output_type": "execute_result"
    }
   ],
   "source": [
    "X_train.shape, X_test.shape"
   ]
  },
  {
   "cell_type": "markdown",
   "id": "de4607a9-ce4c-4293-ba2c-0db6b6ab0298",
   "metadata": {},
   "source": [
    "## Binary Classification"
   ]
  },
  {
   "cell_type": "markdown",
   "id": "4ddcf9d3-1f06-4285-a3ea-804416e7834a",
   "metadata": {},
   "source": [
    "Let's train a 5-detector."
   ]
  },
  {
   "cell_type": "code",
   "execution_count": 30,
   "id": "47b79224-ad67-44a0-9575-b372c8146632",
   "metadata": {},
   "outputs": [],
   "source": [
    "y_train_5 = y_train == 5\n",
    "y_test_5 = y_test == 5"
   ]
  },
  {
   "cell_type": "code",
   "execution_count": 31,
   "id": "8215c6dd-23c9-49a0-b6c8-7fa3df8eccbe",
   "metadata": {},
   "outputs": [
    {
     "data": {
      "text/plain": [
       "array([ True, False, False, False, False, False])"
      ]
     },
     "execution_count": 31,
     "metadata": {},
     "output_type": "execute_result"
    }
   ],
   "source": [
    "y_train_5[:6]"
   ]
  },
  {
   "cell_type": "code",
   "execution_count": 32,
   "id": "6f290f4a-415c-4433-87e2-2075ec817044",
   "metadata": {},
   "outputs": [
    {
     "data": {
      "text/plain": [
       "SGDClassifier(random_state=42)"
      ]
     },
     "execution_count": 32,
     "metadata": {},
     "output_type": "execute_result"
    }
   ],
   "source": [
    "# Stochastic Gradient Descent classifier\n",
    "from sklearn.linear_model import SGDClassifier\n",
    "sgd_clf = SGDClassifier(random_state=42)\n",
    "sgd_clf.fit(X_train, y_train_5)"
   ]
  },
  {
   "cell_type": "code",
   "execution_count": 33,
   "id": "c82c3233-681a-46e8-874b-cd99ca6cc23f",
   "metadata": {},
   "outputs": [
    {
     "data": {
      "text/plain": [
       "array([ True])"
      ]
     },
     "execution_count": 33,
     "metadata": {},
     "output_type": "execute_result"
    }
   ],
   "source": [
    "sgd_clf.predict([some_digit])"
   ]
  },
  {
   "cell_type": "markdown",
   "id": "188ea28e-905b-45b3-92d0-5c90c1ad1dc0",
   "metadata": {},
   "source": [
    "### Evaluate Performance\n",
    "\n",
    "Measuring accuracy using cross-validation."
   ]
  },
  {
   "cell_type": "code",
   "execution_count": 34,
   "id": "62d650dd-c330-4569-bf5b-3a90bd38d3cc",
   "metadata": {},
   "outputs": [
    {
     "data": {
      "text/plain": [
       "array([0.95035, 0.96035, 0.9604 ])"
      ]
     },
     "execution_count": 34,
     "metadata": {},
     "output_type": "execute_result"
    }
   ],
   "source": [
    "from sklearn.model_selection import cross_val_score\n",
    "cross_val_score(sgd_clf, X_train, y_train_5, cv=3, scoring=\"accuracy\")"
   ]
  },
  {
   "cell_type": "markdown",
   "id": "1f81c5d8-d9ab-41a1-a239-c257bd0dff4c",
   "metadata": {},
   "source": [
    "Nice! Over 95 % of accuracy on al cross-validation folds! Well, this is a bit of a mirage. Let's create a dumb classifier that classifies every image as a \"not-5\":"
   ]
  },
  {
   "cell_type": "code",
   "execution_count": 35,
   "id": "327d95c2-fe05-4ff3-8f7d-94e8a343a0d3",
   "metadata": {},
   "outputs": [],
   "source": [
    "from sklearn.base import BaseEstimator\n",
    "\n",
    "class Never5Classifier(BaseEstimator):\n",
    "    def fit(self, X, y=None):\n",
    "        return self\n",
    "    \n",
    "    def predict(self, X):\n",
    "        return np.zeros((len(X), 1), dtype=bool)"
   ]
  },
  {
   "cell_type": "code",
   "execution_count": 36,
   "id": "9c94b6d8-7443-4069-aa04-96ce0be67584",
   "metadata": {},
   "outputs": [
    {
     "data": {
      "text/plain": [
       "array([0.91125, 0.90855, 0.90915])"
      ]
     },
     "execution_count": 36,
     "metadata": {},
     "output_type": "execute_result"
    }
   ],
   "source": [
    "never_5_clf = Never5Classifier()\n",
    "cross_val_score(never_5_clf, X_train, y_train_5, cv=3, scoring=\"accuracy\")"
   ]
  },
  {
   "cell_type": "markdown",
   "id": "f8d641f5-beaf-468c-9368-51d33f14b99e",
   "metadata": {},
   "source": [
    "Ok, so even this dumb classifier can get over 90 % accuracy in our sample! This demonstrates why accuracy is not preferred as a performance metric when dealing with *skewed datasets*."
   ]
  },
  {
   "cell_type": "markdown",
   "id": "311820e0-e073-408c-b88c-3c3d2e177e71",
   "metadata": {},
   "source": [
    "#### Confusion Matrix"
   ]
  },
  {
   "cell_type": "markdown",
   "id": "5ad42096-cc21-469e-8b08-4960cf2ddde7",
   "metadata": {},
   "source": [
    "A confusion matrix has the true values in its rows, the classified values in its columns. For example, to check how many 5s were classified as 3s, we would check the 5th row and 3rd column."
   ]
  },
  {
   "cell_type": "markdown",
   "id": "b8eaa97e-75b9-426d-b193-daa177eca7c7",
   "metadata": {},
   "source": [
    "We introduce a new tool now, the `cross_val_predict` function. It performs K-fold cross-validation, but instead of returning a score for each fold, it computes the predictions for each. This means that we get a *clean* prediction for each instance in the training set (*clean* meaning that the model never saw the predicted data during training)."
   ]
  },
  {
   "cell_type": "code",
   "execution_count": 37,
   "id": "40698a3b-8a5c-4480-858c-25a9f16e1da7",
   "metadata": {},
   "outputs": [],
   "source": [
    "from sklearn.model_selection import cross_val_predict\n",
    "\n",
    "y_train_pred = cross_val_predict(sgd_clf, X_train, y_train_5, cv=3)"
   ]
  },
  {
   "cell_type": "code",
   "execution_count": 38,
   "id": "dac0b76a-3775-4385-b115-8f5f992805ec",
   "metadata": {},
   "outputs": [
    {
     "data": {
      "text/plain": [
       "(60000,)"
      ]
     },
     "execution_count": 38,
     "metadata": {},
     "output_type": "execute_result"
    }
   ],
   "source": [
    "# we get a single array with all predictions! :)\n",
    "y_train_pred.shape"
   ]
  },
  {
   "cell_type": "markdown",
   "id": "5805cb0b-855a-474e-88b6-d8db8a637e54",
   "metadata": {},
   "source": [
    "Now we can compute the confusion matrix"
   ]
  },
  {
   "cell_type": "code",
   "execution_count": 39,
   "id": "6fba56d3-8613-4afb-92ec-4be822bcbef7",
   "metadata": {},
   "outputs": [
    {
     "data": {
      "text/plain": [
       "array([[53892,   687],\n",
       "       [ 1891,  3530]])"
      ]
     },
     "execution_count": 39,
     "metadata": {},
     "output_type": "execute_result"
    }
   ],
   "source": [
    "from sklearn.metrics import confusion_matrix\n",
    "confusion_matrix(y_train_5, y_train_pred)"
   ]
  },
  {
   "cell_type": "markdown",
   "id": "95da1f9d-621a-4253-ac81-a61950a0fb90",
   "metadata": {},
   "source": [
    "Let's interpret this matrix reading row after row:\n",
    "- 53892 non-fives were correctly interpreted as such, while 687 were classified as fives\n",
    "- 3530 fives were classified as fives, while 1891 were not."
   ]
  },
  {
   "cell_type": "markdown",
   "id": "11b2955d-9f36-45c7-9707-ea5627c5f0d3",
   "metadata": {},
   "source": [
    "#### Summarising the confusion matrix. Recall and Precision"
   ]
  },
  {
   "cell_type": "markdown",
   "id": "764e2a2f-cc75-4bb9-86c0-51fd25b506c1",
   "metadata": {},
   "source": [
    "$$Precision = \\frac{TP}{TP + FP}$$\n",
    "\n",
    "To put it in words, of all observations classified as a five, how many were actually a five? Likewise, we need to read the column of the confusion matrix. In the previous example, "
   ]
  },
  {
   "cell_type": "code",
   "execution_count": 40,
   "id": "7075718e-e2f5-4dfd-8a43-100168a1839a",
   "metadata": {},
   "outputs": [
    {
     "data": {
      "text/plain": [
       "0.8370879772350012"
      ]
     },
     "execution_count": 40,
     "metadata": {},
     "output_type": "execute_result"
    }
   ],
   "source": [
    "precision = 3530 / (3530 + 687)\n",
    "precision"
   ]
  },
  {
   "cell_type": "markdown",
   "id": "7adaccb1-ca0f-4fa1-93d7-d16652161521",
   "metadata": {},
   "source": [
    "$$Recall = \\frac{TP}{TP + FN}$$\n",
    "\n",
    "To put it in words, of all fives in the dataset, how many were classified as such? We need to read the row of the confusion matrix. In the previous example,"
   ]
  },
  {
   "cell_type": "code",
   "execution_count": 41,
   "id": "4251d167-3e07-428a-b79f-c5134b0c51fd",
   "metadata": {},
   "outputs": [
    {
     "data": {
      "text/plain": [
       "0.6511713705958311"
      ]
     },
     "execution_count": 41,
     "metadata": {},
     "output_type": "execute_result"
    }
   ],
   "source": [
    "recall = 3530 / (3530 + 1891)\n",
    "recall"
   ]
  },
  {
   "cell_type": "markdown",
   "id": "77ef69aa-d7c7-478a-864a-0e7cee5ac4bd",
   "metadata": {},
   "source": [
    "Sklearn provides convenience functions to compute them:"
   ]
  },
  {
   "cell_type": "code",
   "execution_count": 45,
   "id": "d5dd15e8-a487-4a6f-b5e2-0d970cce1785",
   "metadata": {},
   "outputs": [
    {
     "data": {
      "text/plain": [
       "0.8370879772350012"
      ]
     },
     "execution_count": 45,
     "metadata": {},
     "output_type": "execute_result"
    }
   ],
   "source": [
    "from sklearn.metrics import precision_score, recall_score, f1_score\n",
    "precision_score(y_train_5, y_train_pred)"
   ]
  },
  {
   "cell_type": "code",
   "execution_count": 46,
   "id": "8d40188c-f0b2-4d6e-a2df-86bf2d4a12e9",
   "metadata": {},
   "outputs": [
    {
     "data": {
      "text/plain": [
       "0.6511713705958311"
      ]
     },
     "execution_count": 46,
     "metadata": {},
     "output_type": "execute_result"
    }
   ],
   "source": [
    "recall_score(y_train_5, y_train_pred)"
   ]
  },
  {
   "cell_type": "code",
   "execution_count": 47,
   "id": "469cf4a0-266c-4699-82f8-618d1fa5017d",
   "metadata": {},
   "outputs": [
    {
     "data": {
      "text/plain": [
       "0.7325171197343846"
      ]
     },
     "execution_count": 47,
     "metadata": {},
     "output_type": "execute_result"
    }
   ],
   "source": [
    "f1_score(y_train_5, y_train_pred)"
   ]
  },
  {
   "cell_type": "markdown",
   "id": "42542cb1-16f9-4cba-a3f8-cab85ae5af2b",
   "metadata": {},
   "source": [
    "What is the F1 score? it's just the harmonic mean of recall and precision. the harmonic mean has the nice property that to be high, all values must be high."
   ]
  },
  {
   "cell_type": "markdown",
   "id": "6c126a2f-5d9b-4cfd-9d84-582d31769ce1",
   "metadata": {},
   "source": [
    "$$\\text{F1-score} = \\frac{2}{\\frac{1}{Precision} + \\frac{1}{Recall}}$$"
   ]
  },
  {
   "cell_type": "markdown",
   "id": "7d481ea5-acf4-4bcd-b10d-9f33c1a2b8a2",
   "metadata": {},
   "source": [
    "Exercise. What do you prefer, high recall or precision?\n",
    "\n",
    "- Safe videos for kids\n",
    "    - You don't want to say something is safe when is not. So you want a high precision, i.e. when you claim that something is safe, it is safe\n",
    "    - the shortcoming is that some safe videos will be classified as unsafe\n",
    "- Shoplifters in survaillance videos\n",
    "    - You don't want to miss a shoplifer (TP). So we need to detect all shoplifters in the sample, i.e. having a high recall\n",
    "    - the shortcoming is that you'll get some false alerts\n",
    "\n",
    "The shortcomings mentioned are examples of the *Precision/Recall trade-off*"
   ]
  },
  {
   "cell_type": "code",
   "execution_count": null,
   "id": "4adeb9b7-a629-4415-b6de-a0a9c71fa6a6",
   "metadata": {},
   "outputs": [],
   "source": []
  }
 ],
 "metadata": {
  "kernelspec": {
   "display_name": "Python 3",
   "language": "python",
   "name": "python3"
  },
  "language_info": {
   "codemirror_mode": {
    "name": "ipython",
    "version": 3
   },
   "file_extension": ".py",
   "mimetype": "text/x-python",
   "name": "python",
   "nbconvert_exporter": "python",
   "pygments_lexer": "ipython3",
   "version": "3.8.8"
  }
 },
 "nbformat": 4,
 "nbformat_minor": 5
}
